{
 "cells": [
  {
   "cell_type": "code",
   "execution_count": 22,
   "metadata": {
    "collapsed": true
   },
   "outputs": [],
   "source": [
    "import pandas as pd\n",
    "import numpy as np\n",
    "import warnings\n",
    "warnings.filterwarnings('ignore')\n",
    "import seaborn as sns\n",
    "sns.set_style('whitegrid')\n",
    "import matplotlib.pyplot as plt\n",
    "import matplotlib as mpl\n",
    "# pandas一些属性设置\n",
    "pd.set_option('max_colwidth',20000)\n",
    "pd.set_option('display.width',200)\n",
    "pd.set_option('display.max_columns',500)\n",
    "pd.set_option('display.max_rows',1000)\n",
    "pd.set_option('display.unicode.ambiguous_as_wide', True)\n",
    "pd.set_option('display.unicode.east_asian_width', True)\n",
    "# matlab支持汉字\n",
    "mpl.rcParams[\"font.family\"]=\"sans-serif\"\n",
    "mpl.rcParams['font.sans-serif'] = ['SimHei']"
   ]
  },
  {
   "cell_type": "code",
   "execution_count": 25,
   "metadata": {
    "collapsed": true
   },
   "outputs": [
    {
     "name": "stdout",
     "output_type": "stream",
     "text": [
      "read data begin\n    Age Cabin Embarked     Fare                                                 Name  Parch  PassengerId  Pclass     Sex  SibSp  Survived            Ticket\n0  22.0   NaN        S   7.2500                              Braund, Mr. Owen Harris      0            1       3    male      1         0         A/5 21171\n1  38.0   C85        C  71.2833  Cumings, Mrs. John Bradley (Florence Briggs Thayer)      0            2       1  female      1         1          PC 17599\n2  26.0   NaN        S   7.9250                               Heikkinen, Miss. Laina      0            3       3  female      0         1  STON/O2. 3101282\n3  35.0  C123        S  53.1000         Futrelle, Mrs. Jacques Heath (Lily May Peel)      0            4       1  female      1         1            113803\n4  35.0   NaN        S   8.0500                             Allen, Mr. William Henry      0            5       3    male      0         0            373450\n"
     ]
    }
   ],
   "source": [
    "print('read data begin')\n",
    "train_file_path = 'data/Titanic/train.csv'\n",
    "test_file_path = 'data/Titanic/test.csv'\n",
    "train_data = pd.read_csv(train_file_path, header=0)\n",
    "test_data = pd.read_csv(test_file_path, header=0)\n",
    "test_data['Survived'] = 0\n",
    "df = pd.concat([train_data, test_data], ignore_index=True)\n",
    "print(df.head())"
   ]
  },
  {
   "cell_type": "code",
   "execution_count": 23,
   "metadata": {},
   "outputs": [
    {
     "name": "stdout",
     "output_type": "stream",
     "text": [
      "begin data visualization\n"
     ]
    }
   ],
   "source": [
    "'''\n",
    "train_data:Age,Embarked and Cabin have nan value\n",
    "test_data:Age,Cabin,Fare have nan value\n",
    "'''\n",
    "print('begin data visualization')\n",
    "#DataFrame.plot( )画图函数\n",
    "train_data['Survived'].value_counts().plot(autopct = '%1.2f%%', kind='pie')\n",
    "plt.show()"
   ]
  },
  {
   "cell_type": "code",
   "execution_count": 24,
   "metadata": {},
   "outputs": [
    {
     "name": "stdout",
     "output_type": "stream",
     "text": [
      "分析性別与生存之间的关系\n"
     ]
    }
   ],
   "source": [
    "print(\"分析性別与生存之间的关系\")\n",
    "train_data[['Sex','Survived']].groupby(['Sex']).mean().plot.bar()\n",
    "plt.show()"
   ]
  },
  {
   "cell_type": "code",
   "execution_count": 25,
   "metadata": {},
   "outputs": [
    {
     "name": "stdout",
     "output_type": "stream",
     "text": [
      "船舱等级和生存的关系\n"
     ]
    }
   ],
   "source": [
    "print(\"船舱等级和生存的关系\")\n",
    "train_data[['Pclass','Survived']].groupby(['Pclass']).mean().plot.bar()\n",
    "plt.show()"
   ]
  },
  {
   "cell_type": "code",
   "execution_count": 26,
   "metadata": {
    "collapsed": true
   },
   "outputs": [
    {
     "name": "stdout",
     "output_type": "stream",
     "text": [
      "姓名和生存的关系\n"
     ]
    }
   ],
   "source": [
    "print(\"姓名和生存的关系\")\n",
    "# 对姓名只取称呼部门，因为称呼决定了社会关系等。。。\n",
    "train_data['Title'] = train_data['Name'].str.extract(' ([A-Za-z]+)\\.', expand=False)\n",
    "pd.crosstab(train_data['Title'], train_data['Sex'])\n",
    "a = train_data[['Title','Survived']].groupby(['Title']).count()/(train_data.shape[0])\n",
    "a.plot(kind='bar')\n",
    "plt.legend(loc='best')\n",
    "plt.show()"
   ]
  },
  {
   "cell_type": "code",
   "execution_count": 28,
   "metadata": {
    "collapsed": false
   },
   "outputs": [
    {
     "name": "stdout",
     "output_type": "stream",
     "text": [
      "年龄和生存的关系\n各个年龄段的生存率\n80.0\n各个年龄的人数"
     ]
    },
    {
     "name": "stdout",
     "output_type": "stream",
     "text": [
      "\n"
     ]
    }
   ],
   "source": [
    "print('年龄和生存的关系')\n",
    "print('各个年龄段的生存率')\n",
    "print(np.max(train_data['Age']))\n",
    "fig, axis1 = plt.subplots(1,1,figsize=(18,4))\n",
    "average_age = train_data[[\"Age\", \"Survived\"]].groupby(['Age'],as_index=False).mean()\n",
    "sns.barplot(x='Age', y='Survived', data=average_age)\n",
    "print('各个年龄的人数')\n",
    "plt.figure(figsize=(8,10))\n",
    "train_data['Age'].hist(bins=70)\n",
    "plt.xlabel('Age')\n",
    "plt.ylabel('Num')\n",
    "plt.show()"
   ]
  },
  {
   "cell_type": "code",
   "execution_count": 31,
   "metadata": {
    "collapsed": true
   },
   "outputs": [
    {
     "name": "stdout",
     "output_type": "stream",
     "text": [
      "船上兄弟姐妹和配偶的数目与生存关系\n"
     ]
    }
   ],
   "source": [
    "title='SibSp relationship with Survived'\n",
    "print('船上兄弟姐妹和配偶的数目与生存关系')\n",
    "train_data[['SibSp','Survived']].groupby(['SibSp']).mean().plot.bar()\n",
    "plt.title(title)\n",
    "plt.show()"
   ]
  },
  {
   "cell_type": "code",
   "execution_count": 34,
   "metadata": {},
   "outputs": [
    {
     "name": "stdout",
     "output_type": "stream",
     "text": [
      "船上父母，子女的数目与生存关系\n"
     ]
    }
   ],
   "source": [
    "title='Parch relationship with Survived'\n",
    "print('船上父母，子女的数目与生存关系')\n",
    "train_data[['Parch','Survived']].groupby(['Parch']).mean().plot.bar()\n",
    "plt.title(title)\n",
    "plt.show()"
   ]
  },
  {
   "cell_type": "code",
   "execution_count": 35,
   "metadata": {},
   "outputs": [
    {
     "name": "stdout",
     "output_type": "stream",
     "text": [
      "船上亲戚的数目与生存的关系\n从图表中可以看出，若独自一人，那么其存活率比较低；但是如果亲友太多的话，存活率也会很低。\n"
     ]
    }
   ],
   "source": [
    "print('船上亲戚的数目与生存的关系')\n",
    "train_data['Family'] = train_data['Parch']+train_data['SibSp']\n",
    "train_data[['Family','Survived']].groupby(['Family']).mean().plot.bar()\n",
    "plt.show()\n",
    "print('从图表中可以看出，若独自一人，那么其存活率比较低；但是如果亲友太多的话，存活率也会很低。')"
   ]
  },
  {
   "cell_type": "code",
   "execution_count": 36,
   "metadata": {},
   "outputs": [
    {
     "name": "stdout",
     "output_type": "stream",
     "text": [
      "票价分布的直方图\n"
     ]
    }
   ],
   "source": [
    "print('票价分布的直方图')\n",
    "train_data['Fare'].hist(bins=70)\n",
    "plt.show()"
   ]
  },
  {
   "cell_type": "code",
   "execution_count": 37,
   "metadata": {},
   "outputs": [
    {
     "name": "stdout",
     "output_type": "stream",
     "text": [
      "票价与社会阶级之间的关系\n"
     ]
    }
   ],
   "source": [
    "print('票价与社会阶级之间的关系')\n",
    "plt.figure(figsize=(8,10))\n",
    "train_data[['Fare','Pclass']].groupby(['Pclass']).mean().plot.bar(width=0.1)\n",
    "plt.show()"
   ]
  },
  {
   "cell_type": "code",
   "execution_count": 38,
   "metadata": {},
   "outputs": [
    {
     "name": "stdout",
     "output_type": "stream",
     "text": [
      "船舱编号缺省值填充\n0\n"
     ]
    }
   ],
   "source": [
    "print('船舱编号缺省值填充')\n",
    "train_data['Cabin'].fillna(value='N0', inplace=True)\n",
    "print(train_data['Cabin'].isnull().sum())"
   ]
  },
  {
   "cell_type": "code",
   "execution_count": 39,
   "metadata": {},
   "outputs": [
    {
     "name": "stdout",
     "output_type": "stream",
     "text": [
      "船舱编号和生存之间的关系\n"
     ]
    }
   ],
   "source": [
    "print('船舱编号和生存之间的关系')\n",
    "# Cabin缺省的字段较多，先将缺省船舱编号的和非缺省船舱编码号的进行对比\n",
    "train_data['Has_Cabin'] = train_data['Cabin'].apply(lambda x : 0 if x=='N0' else 1)\n",
    "train_data[['Has_Cabin','Survived']].groupby(['Has_Cabin']).mean().plot.bar()\n",
    "plt.show()\n",
    "# 沒有船舱的人存活率更高"
   ]
  },
  {
   "cell_type": "code",
   "execution_count": 40,
   "metadata": {},
   "outputs": [
    {
     "name": "stdout",
     "output_type": "stream",
     "text": [
      "不同登录港口和生存之间的关系\n"
     ]
    }
   ],
   "source": [
    "print('不同登录港口和生存之间的关系')\n",
    "train_data[['Embarked','Survived']].groupby(['Embarked']).mean().plot.bar()\n",
    "plt.show()\n",
    "# 由上可以看出，在不同的港口上船，生还率不同，C最高，Q次之，S最低。"
   ]
  },
  {
   "cell_type": "code",
   "execution_count": 41,
   "metadata": {},
   "outputs": [],
   "source": [
    "sns.countplot('Embarked', hue='Survived', data=train_data)\n",
    "plt.title('Embarked and Survived')\n",
    "plt.show()"
   ]
  },
  {
   "cell_type": "code",
   "execution_count": 42,
   "metadata": {
    "collapsed": false
   },
   "outputs": [
    {
     "name": "stdout",
     "output_type": "stream",
     "text": [
      "开始缺省值的填充\n<class 'pandas.core.frame.DataFrame'>\nRangeIndex: 891 entries, 0 to 890\nData columns (total 15 columns):\nPassengerId    891 non-null int64\nSurvived       891 non-null int64\nPclass         891 non-null int64\nName           891 non-null object\nSex            891 non-null object\nAge            714 non-null float64\nSibSp          891 non-null int64\nParch          891 non-null int64\nTicket         891 non-null object\nFare           891 non-null float64\nCabin          891 non-null object\nEmbarked       889 non-null object\nTitle          891 non-null object\nFamily         891 non-null int64\nHas_Cabin      891 non-null int64\ndtypes: float64(2), int64(7), object(6)\nmemory usage: 104.5+ KB\ntrain_data_info: None\n"
     ]
    }
   ],
   "source": [
    "print('开始缺省值的填充')\n",
    "print('train_data_info:',train_data.info())\n"
   ]
  },
  {
   "cell_type": "code",
   "execution_count": 61,
   "metadata": {},
   "outputs": [
    {
     "name": "stdout",
     "output_type": "stream",
     "text": [
      "Empty DataFrame\nColumns: [Age, Survived, Fare, Parch, SibSp, Pclass]\nIndex: []\n"
     ]
    },
    {
     "ename": "ValueError",
     "evalue": "Found array with 0 sample(s) (shape=(0, 5)) while a minimum of 1 is required.",
     "traceback": [
      "\u001b[0;31m---------------------------------------------------------------------------\u001b[0m",
      "\u001b[0;31mValueError\u001b[0m                                Traceback (most recent call last)",
      "\u001b[0;32m<ipython-input-61-d46f54241e1a>\u001b[0m in \u001b[0;36m<module>\u001b[0;34m()\u001b[0m\n\u001b[1;32m     13\u001b[0m \u001b[0mRFR\u001b[0m \u001b[0;34m=\u001b[0m \u001b[0mRandomForestRegressor\u001b[0m\u001b[0;34m(\u001b[0m\u001b[0mn_estimators\u001b[0m\u001b[0;34m=\u001b[0m\u001b[0;36m1000\u001b[0m\u001b[0;34m,\u001b[0m \u001b[0mn_jobs\u001b[0m\u001b[0;34m=\u001b[0m\u001b[0;34m-\u001b[0m\u001b[0;36m1\u001b[0m\u001b[0;34m)\u001b[0m\u001b[0;34m\u001b[0m\u001b[0m\n\u001b[1;32m     14\u001b[0m \u001b[0mRFR\u001b[0m\u001b[0;34m.\u001b[0m\u001b[0mfit\u001b[0m\u001b[0;34m(\u001b[0m\u001b[0mX\u001b[0m\u001b[0;34m,\u001b[0m \u001b[0my\u001b[0m\u001b[0;34m)\u001b[0m\u001b[0;34m\u001b[0m\u001b[0m\n\u001b[0;32m---> 15\u001b[0;31m \u001b[0mpredictAges\u001b[0m \u001b[0;34m=\u001b[0m \u001b[0mRFR\u001b[0m\u001b[0;34m.\u001b[0m\u001b[0mpredict\u001b[0m\u001b[0;34m(\u001b[0m\u001b[0mage_df_null\u001b[0m\u001b[0;34m.\u001b[0m\u001b[0mvalues\u001b[0m\u001b[0;34m[\u001b[0m\u001b[0;34m:\u001b[0m\u001b[0;34m,\u001b[0m \u001b[0;36m1\u001b[0m\u001b[0;34m:\u001b[0m\u001b[0;34m]\u001b[0m\u001b[0;34m)\u001b[0m\u001b[0;34m\u001b[0m\u001b[0m\n\u001b[0m\u001b[1;32m     16\u001b[0m \u001b[0;34m\u001b[0m\u001b[0m\n\u001b[1;32m     17\u001b[0m \u001b[0mprint\u001b[0m\u001b[0;34m(\u001b[0m\u001b[0mpredictAges\u001b[0m\u001b[0;34m)\u001b[0m\u001b[0;34m\u001b[0m\u001b[0m\n",
      "\u001b[0;32mC:\\Users\\Administrator\\venv\\lib\\site-packages\\sklearn\\ensemble\\forest.py\u001b[0m in \u001b[0;36mpredict\u001b[0;34m(self, X)\u001b[0m\n\u001b[1;32m    687\u001b[0m         \u001b[0mcheck_is_fitted\u001b[0m\u001b[0;34m(\u001b[0m\u001b[0mself\u001b[0m\u001b[0;34m,\u001b[0m \u001b[0;34m'estimators_'\u001b[0m\u001b[0;34m)\u001b[0m\u001b[0;34m\u001b[0m\u001b[0m\n\u001b[1;32m    688\u001b[0m         \u001b[0;31m# Check data\u001b[0m\u001b[0;34m\u001b[0m\u001b[0;34m\u001b[0m\u001b[0m\n\u001b[0;32m--> 689\u001b[0;31m         \u001b[0mX\u001b[0m \u001b[0;34m=\u001b[0m \u001b[0mself\u001b[0m\u001b[0;34m.\u001b[0m\u001b[0m_validate_X_predict\u001b[0m\u001b[0;34m(\u001b[0m\u001b[0mX\u001b[0m\u001b[0;34m)\u001b[0m\u001b[0;34m\u001b[0m\u001b[0m\n\u001b[0m\u001b[1;32m    690\u001b[0m \u001b[0;34m\u001b[0m\u001b[0m\n\u001b[1;32m    691\u001b[0m         \u001b[0;31m# Assign chunk of trees to jobs\u001b[0m\u001b[0;34m\u001b[0m\u001b[0;34m\u001b[0m\u001b[0m\n",
      "\u001b[0;32mC:\\Users\\Administrator\\venv\\lib\\site-packages\\sklearn\\ensemble\\forest.py\u001b[0m in \u001b[0;36m_validate_X_predict\u001b[0;34m(self, X)\u001b[0m\n\u001b[1;32m    362\u001b[0m                                  \"call `fit` before exploiting the model.\")\n\u001b[1;32m    363\u001b[0m \u001b[0;34m\u001b[0m\u001b[0m\n\u001b[0;32m--> 364\u001b[0;31m         \u001b[0;32mreturn\u001b[0m \u001b[0mself\u001b[0m\u001b[0;34m.\u001b[0m\u001b[0mestimators_\u001b[0m\u001b[0;34m[\u001b[0m\u001b[0;36m0\u001b[0m\u001b[0;34m]\u001b[0m\u001b[0;34m.\u001b[0m\u001b[0m_validate_X_predict\u001b[0m\u001b[0;34m(\u001b[0m\u001b[0mX\u001b[0m\u001b[0;34m,\u001b[0m \u001b[0mcheck_input\u001b[0m\u001b[0;34m=\u001b[0m\u001b[0;32mTrue\u001b[0m\u001b[0;34m)\u001b[0m\u001b[0;34m\u001b[0m\u001b[0m\n\u001b[0m\u001b[1;32m    365\u001b[0m \u001b[0;34m\u001b[0m\u001b[0m\n\u001b[1;32m    366\u001b[0m     \u001b[0;34m@\u001b[0m\u001b[0mproperty\u001b[0m\u001b[0;34m\u001b[0m\u001b[0m\n",
      "\u001b[0;32mC:\\Users\\Administrator\\venv\\lib\\site-packages\\sklearn\\tree\\tree.py\u001b[0m in \u001b[0;36m_validate_X_predict\u001b[0;34m(self, X, check_input)\u001b[0m\n\u001b[1;32m    374\u001b[0m         \u001b[0;34m\"\"\"Validate X whenever one tries to predict, apply, predict_proba\"\"\"\u001b[0m\u001b[0;34m\u001b[0m\u001b[0m\n\u001b[1;32m    375\u001b[0m         \u001b[0;32mif\u001b[0m \u001b[0mcheck_input\u001b[0m\u001b[0;34m:\u001b[0m\u001b[0;34m\u001b[0m\u001b[0m\n\u001b[0;32m--> 376\u001b[0;31m             \u001b[0mX\u001b[0m \u001b[0;34m=\u001b[0m \u001b[0mcheck_array\u001b[0m\u001b[0;34m(\u001b[0m\u001b[0mX\u001b[0m\u001b[0;34m,\u001b[0m \u001b[0mdtype\u001b[0m\u001b[0;34m=\u001b[0m\u001b[0mDTYPE\u001b[0m\u001b[0;34m,\u001b[0m \u001b[0maccept_sparse\u001b[0m\u001b[0;34m=\u001b[0m\u001b[0;34m\"csr\"\u001b[0m\u001b[0;34m)\u001b[0m\u001b[0;34m\u001b[0m\u001b[0m\n\u001b[0m\u001b[1;32m    377\u001b[0m             if issparse(X) and (X.indices.dtype != np.intc or\n\u001b[1;32m    378\u001b[0m                                 X.indptr.dtype != np.intc):\n",
      "\u001b[0;32mC:\\Users\\Administrator\\venv\\lib\\site-packages\\sklearn\\utils\\validation.py\u001b[0m in \u001b[0;36mcheck_array\u001b[0;34m(array, accept_sparse, accept_large_sparse, dtype, order, copy, force_all_finite, ensure_2d, allow_nd, ensure_min_samples, ensure_min_features, warn_on_dtype, estimator)\u001b[0m\n\u001b[1;32m    575\u001b[0m                              \u001b[0;34m\" minimum of %d is required%s.\"\u001b[0m\u001b[0;34m\u001b[0m\u001b[0m\n\u001b[1;32m    576\u001b[0m                              % (n_samples, shape_repr, ensure_min_samples,\n\u001b[0;32m--> 577\u001b[0;31m                                 context))\n\u001b[0m\u001b[1;32m    578\u001b[0m \u001b[0;34m\u001b[0m\u001b[0m\n\u001b[1;32m    579\u001b[0m     \u001b[0;32mif\u001b[0m \u001b[0mensure_min_features\u001b[0m \u001b[0;34m>\u001b[0m \u001b[0;36m0\u001b[0m \u001b[0;32mand\u001b[0m \u001b[0marray\u001b[0m\u001b[0;34m.\u001b[0m\u001b[0mndim\u001b[0m \u001b[0;34m==\u001b[0m \u001b[0;36m2\u001b[0m\u001b[0;34m:\u001b[0m\u001b[0;34m\u001b[0m\u001b[0m\n",
      "\u001b[0;31mValueError\u001b[0m: Found array with 0 sample(s) (shape=(0, 5)) while a minimum of 1 is required."
     ],
     "output_type": "error"
    }
   ],
   "source": [
    "from sklearn.ensemble import RandomForestRegressor\n",
    "train_data.Embarked[train_data.Embarked.isnull()] = train_data.Embarked.dropna().mode().values\n",
    "'''\n",
    "使用回归 随机森林等模型来预测缺失属性的值。因为Age在该数据集里是一个相当重要的特征（先对Age进行分析即可得知），\n",
    "所以保证一定的缺失值填充准确率是非常重要的，对结果也会产生较大影响。一般情况下，会使用数据完整的条目作为模型的训练集，以此来预测缺失值。\n",
    "'''\n",
    "age_df = train_data[['Age','Survived','Fare', 'Parch', 'SibSp', 'Pclass']]\n",
    "age_df_null = age_df.loc[(train_data['Age'].isnull())]\n",
    "age_df_notnull = age_df.loc[(train_data['Age'].notnull())]\n",
    "X = age_df_notnull.iloc[:, 1:]\n",
    "y = age_df_notnull.iloc[:, 0]\n",
    "RFR = RandomForestRegressor(n_estimators=1000, n_jobs=-1)\n",
    "RFR.fit(X, y)\n",
    "predictAges = RFR.predict(age_df_null.values[:, 1:])\n",
    "train_data.loc[train_data['Age'].isnull(), ['Age']]= predictAges"
   ]
  },
  {
   "cell_type": "code",
   "execution_count": 63,
   "metadata": {
    "collapsed": false
   },
   "outputs": [
    {
     "name": "stdout",
     "output_type": "stream",
     "text": [
      "<class 'pandas.core.frame.DataFrame'>\nRangeIndex: 891 entries, 0 to 890\nData columns (total 15 columns):\nPassengerId    891 non-null int64\nSurvived       891 non-null int64\nPclass         891 non-null int64\nName           891 non-null object\nSex            891 non-null object\nAge            891 non-null float64\nSibSp          891 non-null int64\nParch          891 non-null int64\nTicket         891 non-null object\nFare           891 non-null float64\nCabin          891 non-null object\nEmbarked       891 non-null object\nTitle          891 non-null object\nFamily         891 non-null int64\nHas_Cabin      891 non-null int64\ndtypes: float64(2), int64(7), object(6)\nmemory usage: 104.5+ KB\nNone\n"
     ]
    }
   ],
   "source": [
    "print(train_data.info())"
   ]
  },
  {
   "cell_type": "code",
   "execution_count": 65,
   "metadata": {
    "collapsed": false
   },
   "outputs": [
    {
     "name": "stdout",
     "output_type": "stream",
     "text": [
      "开始将非数值型特征进行转换\n['male' 'female']\n"
     ]
    }
   ],
   "source": [
    "print('开始将非数值型特征进行转换')\n",
    "print(train_data['Sex'].unique())\n",
    "sex_map = {'male': 1, 'female':2}"
   ]
  },
  {
   "cell_type": "code",
   "execution_count": null,
   "metadata": {},
   "outputs": [],
   "source": []
  }
 ],
 "metadata": {
  "kernelspec": {
   "display_name": "Python 2",
   "language": "python",
   "name": "python2"
  },
  "language_info": {
   "codemirror_mode": {
    "name": "ipython",
    "version": 2
   },
   "file_extension": ".py",
   "mimetype": "text/x-python",
   "name": "python",
   "nbconvert_exporter": "python",
   "pygments_lexer": "ipython2",
   "version": "2.7.6"
  }
 },
 "nbformat": 4,
 "nbformat_minor": 0
}
