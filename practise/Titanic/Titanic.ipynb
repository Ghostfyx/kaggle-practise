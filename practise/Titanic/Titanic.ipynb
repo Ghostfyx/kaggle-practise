{
 "cells": [
  {
   "cell_type": "code",
   "execution_count": 60,
   "metadata": {
    "collapsed": true
   },
   "outputs": [],
   "source": [
    "import pandas as pd\n",
    "import numpy as np\n",
    "import warnings\n",
    "warnings.filterwarnings('ignore')\n",
    "import seaborn as sns\n",
    "import matplotlib.pyplot as plt\n",
    "import matplotlib as mpl\n",
    "# pandas一些属性设置\n",
    "pd.set_option('max_colwidth',200)\n",
    "pd.set_option('display.width',200)\n",
    "pd.set_option('display.max_columns',500)\n",
    "pd.set_option('display.max_rows',1000)\n",
    "# matlab支持汉字\n",
    "mpl.rcParams[\"font.family\"]=\"sans-serif\"\n",
    "mpl.rcParams['font.sans-serif'] = ['SimHei']"
   ]
  },
  {
   "cell_type": "code",
   "execution_count": 61,
   "metadata": {
    "collapsed": true
   },
   "outputs": [
    {
     "name": "stdout",
     "output_type": "stream",
     "text": [
      "read data begin\nIndex(['PassengerId', 'Survived', 'Pclass', 'Name', 'Sex', 'Age', 'SibSp', 'Parch', 'Ticket', 'Fare', 'Cabin', 'Embarked'], dtype='object')\n   PassengerId  Survived  Pclass                     Name   Sex   Age  SibSp  Parch     Ticket  Fare Cabin Embarked\n0            1         0       3  Braund, Mr. Owen Harris  male  22.0      1      0  A/5 21171  7.25   NaN        S\n<class 'pandas.core.frame.DataFrame'>\nRangeIndex: 891 entries, 0 to 890\nData columns (total 12 columns):\nPassengerId    891 non-null int64\nSurvived       891 non-null int64\nPclass         891 non-null int64\nName           891 non-null object\nSex            891 non-null object\nAge            714 non-null float64\nSibSp          891 non-null int64\nParch          891 non-null int64\nTicket         891 non-null object\nFare           891 non-null float64\nCabin          204 non-null object\nEmbarked       889 non-null object\ndtypes: float64(2), int64(5), object(5)\nmemory usage: 83.6+ KB\ntrain_data_info: None\n<class 'pandas.core.frame.DataFrame'>\nRangeIndex: 418 entries, 0 to 417\nData columns (total 11 columns):\nPassengerId    418 non-null int64\nPclass         418 non-null int64\nName           418 non-null object\nSex            418 non-null object\nAge            332 non-null float64\nSibSp          418 non-null int64\nParch          418 non-null int64\nTicket         418 non-null object\nFare           417 non-null float64\nCabin          91 non-null object\nEmbarked       418 non-null object\ndtypes: float64(2), int64(4), object(5)\nmemory usage: 36.0+ KB\ntest_data_info: None\n"
     ]
    }
   ],
   "source": [
    "print('read data begin')\n",
    "train_file_path = 'data/Titanic/train.csv'\n",
    "test_file_path = 'data/Titanic/test.csv'\n",
    "train_data = pd.read_csv(train_file_path)\n",
    "test_data = pd.read_csv(test_file_path)\n",
    "print(train_data.columns)\n",
    "print(train_data.head(1))\n",
    "print('train_data_info:',train_data.info())\n",
    "print('test_data_info:',test_data.info())\n"
   ]
  },
  {
   "cell_type": "code",
   "execution_count": 62,
   "metadata": {},
   "outputs": [
    {
     "name": "stdout",
     "output_type": "stream",
     "text": [
      "begin data visualization\n"
     ]
    }
   ],
   "source": [
    "'''\n",
    "train_data:Age,Embarked and Cabin have nan value\n",
    "test_data:Age,Cabin,Fare have nan value\n",
    "'''\n",
    "print('begin data visualization')\n",
    "#DataFrame.plot( )画图函数\n",
    "train_data['Survived'].value_counts().plot(autopct = '%1.2f%%', kind='pie')\n",
    "plt.show()"
   ]
  },
  {
   "cell_type": "code",
   "execution_count": 63,
   "metadata": {},
   "outputs": [
    {
     "name": "stdout",
     "output_type": "stream",
     "text": [
      "分析性別与生存之间的关系\n"
     ]
    }
   ],
   "source": [
    "print(\"分析性別与生存之间的关系\")\n",
    "train_data[['Sex','Survived']].groupby(['Sex']).mean().plot.bar()\n",
    "plt.show()"
   ]
  },
  {
   "cell_type": "code",
   "execution_count": 64,
   "metadata": {},
   "outputs": [
    {
     "name": "stdout",
     "output_type": "stream",
     "text": [
      "船舱等级和生存的关系\n"
     ]
    }
   ],
   "source": [
    "print(\"船舱等级和生存的关系\")\n",
    "train_data[['Pclass','Survived']].groupby(['Pclass']).mean().plot.bar()\n",
    "plt.show()"
   ]
  },
  {
   "cell_type": "code",
   "execution_count": 65,
   "metadata": {
    "collapsed": true
   },
   "outputs": [
    {
     "name": "stdout",
     "output_type": "stream",
     "text": [
      "姓名和生存的关系\n"
     ]
    }
   ],
   "source": [
    "print(\"姓名和生存的关系\")\n",
    "# 对姓名只取称呼部门，因为称呼决定了社会关系等。。。\n",
    "train_data['Title'] = train_data['Name'].str.extract(' ([A-Za-z]+)\\.', expand=False)\n",
    "a = train_data[['Title','Survived']].groupby(['Title']).count()/(train_data.shape[0])\n",
    "a.plot(kind='bar')\n",
    "plt.legend(loc='best')\n",
    "plt.show()"
   ]
  },
  {
   "cell_type": "code",
   "execution_count": 87,
   "metadata": {
    "collapsed": true
   },
   "outputs": [
    {
     "name": "stdout",
     "output_type": "stream",
     "text": [
      "年龄和生存的关系\n各个年龄段的生存率\n80.0\n"
     ]
    },
    {
     "name": "stdout",
     "output_type": "stream",
     "text": [
      "各个年龄的人数\n"
     ]
    }
   ],
   "source": [
    "print('年龄和生存的关系')\n",
    "print('各个年龄段的生存率')\n",
    "print(np.max(train_data['Age']))\n",
    "fig, axis1 = plt.subplots(1,1,figsize=(18,4))\n",
    "average_age = train_data[[\"Age\", \"Survived\"]].groupby(['Age'],as_index=False).mean()\n",
    "sns.barplot(x='Age', y='Survived', data=average_age)\n",
    "print('各个年龄的人数')\n",
    "plt.figure(figsize=(8,10))\n",
    "train_data['Age'].hist(bins=70)\n",
    "plt.xlabel('Age')\n",
    "plt.ylabel('Num')\n",
    "plt.show()"
   ]
  },
  {
   "cell_type": "code",
   "execution_count": 82,
   "metadata": {
    "collapsed": true
   },
   "outputs": [
    {
     "name": "stdout",
     "output_type": "stream",
     "text": [
      "船上兄弟姐妹和配偶的数目与生存关系\n"
     ]
    }
   ],
   "source": [
    "title='SibSp relationship with Survived'\n",
    "print('船上兄弟姐妹和配偶的数目与生存关系')\n",
    "train_data[['SibSp','Survived']].groupby(['SibSp']).mean().plot.bar()\n",
    "plt.title(title)\n",
    "plt.show()"
   ]
  },
  {
   "cell_type": "code",
   "execution_count": 68,
   "metadata": {},
   "outputs": [
    {
     "name": "stdout",
     "output_type": "stream",
     "text": [
      "Parch relationship with Survived\n"
     ]
    }
   ],
   "source": [
    "title='Parch relationship with Survived'\n",
    "print('船上父母，子女的数目与生存关系')\n",
    "train_data[['Parch','Survived']].groupby(['Parch']).mean().plot.bar()\n",
    "plt.title(title)\n",
    "plt.show()"
   ]
  },
  {
   "cell_type": "code",
   "execution_count": 84,
   "metadata": {},
   "outputs": [
    {
     "name": "stdout",
     "output_type": "stream",
     "text": [
      "船上亲戚的数目与生存的关系\n"
     ]
    },
    {
     "name": "stdout",
     "output_type": "stream",
     "text": [
      "从图表中可以看出，若独自一人，那么其存活率比较低；但是如果亲友太多的话，存活率也会很低。\n"
     ]
    }
   ],
   "source": [
    "print('船上亲戚的数目与生存的关系')\n",
    "train_data['Family'] = train_data['Parch']+train_data['SibSp']\n",
    "train_data[['Family','Survived']].groupby(['Family']).mean().plot.bar()\n",
    "plt.show()\n",
    "print('从图表中可以看出，若独自一人，那么其存活率比较低；但是如果亲友太多的话，存活率也会很低。')"
   ]
  },
  {
   "cell_type": "code",
   "execution_count": 85,
   "metadata": {},
   "outputs": [
    {
     "name": "stdout",
     "output_type": "stream",
     "text": [
      "票价分布的直方图\n"
     ]
    }
   ],
   "source": [
    "print('票价分布的直方图')\n",
    "train_data['Fare'].hist(bins=70)\n",
    "plt.show()"
   ]
  },
  {
   "cell_type": "code",
   "execution_count": 91,
   "metadata": {},
   "outputs": [
    {
     "name": "stdout",
     "output_type": "stream",
     "text": [
      "票价与社会阶级之间的关系\n"
     ]
    }
   ],
   "source": [
    "print('票价与社会阶级之间的关系')\n",
    "plt.figure(figsize=(8,10))\n",
    "train_data[['Fare','Pclass']].groupby(['Pclass']).mean().plot.bar(width=0.1)\n",
    "plt.show()"
   ]
  },
  {
   "cell_type": "code",
   "execution_count": 99,
   "metadata": {},
   "outputs": [
    {
     "name": "stdout",
     "output_type": "stream",
     "text": [
      "船舱编号和生存之间的关系\n0\n"
     ]
    }
   ],
   "source": [
    "print('船舱编号缺省值填充')\n",
    "train_data['Cabin'].fillna(value='N0', inplace=True)\n",
    "print(train_data['Cabin'].isnull().sum())"
   ]
  },
  {
   "cell_type": "code",
   "execution_count": null,
   "metadata": {},
   "outputs": [],
   "source": [
    "print('船舱编号和生存之间的关系')\n",
    "# Cabin缺省的字段较多，先将缺省船舱编号的和非缺省船舱编码号的进行对比\n",
    "print('a')"
   ]
  }
 ],
 "metadata": {
  "kernelspec": {
   "display_name": "Python 2",
   "language": "python",
   "name": "python2"
  },
  "language_info": {
   "codemirror_mode": {
    "name": "ipython",
    "version": 2
   },
   "file_extension": ".py",
   "mimetype": "text/x-python",
   "name": "python",
   "nbconvert_exporter": "python",
   "pygments_lexer": "ipython2",
   "version": "2.7.6"
  }
 },
 "nbformat": 4,
 "nbformat_minor": 0
}
