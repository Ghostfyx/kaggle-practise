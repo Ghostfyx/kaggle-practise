{
 "cells": [
  {
   "cell_type": "code",
   "execution_count": 13,
   "metadata": {
    "collapsed": true
   },
   "outputs": [],
   "source": [
    "import pandas as pd\n",
    "import numpy as np\n",
    "import warnings\n",
    "warnings.filterwarnings('ignore')\n",
    "import seaborn as sns\n",
    "import matplotlib.pyplot as plt\n",
    "\n",
    "# pandas一些属性设置\n",
    "pd.set_option('max_colwidth',200)\n",
    "pd.set_option('display.width',200)\n",
    "pd.set_option('display.max_columns',500)\n",
    "pd.set_option('display.max_rows',1000)"
   ]
  },
  {
   "cell_type": "code",
   "execution_count": 14,
   "metadata": {
    "collapsed": true
   },
   "outputs": [
    {
     "name": "stdout",
     "output_type": "stream",
     "text": [
      "read data begin\nIndex(['PassengerId', 'Survived', 'Pclass', 'Name', 'Sex', 'Age', 'SibSp', 'Parch', 'Ticket', 'Fare', 'Cabin', 'Embarked'], dtype='object')\n   PassengerId  Survived  Pclass                     Name   Sex   Age  SibSp  Parch     Ticket  Fare Cabin Embarked\n0            1         0       3  Braund, Mr. Owen Harris  male  22.0      1      0  A/5 21171  7.25   NaN        S\n<class 'pandas.core.frame.DataFrame'>\nRangeIndex: 891 entries, 0 to 890\nData columns (total 12 columns):\nPassengerId    891 non-null int64\nSurvived       891 non-null int64\nPclass         891 non-null int64\nName           891 non-null object\nSex            891 non-null object\nAge            714 non-null float64\nSibSp          891 non-null int64\nParch          891 non-null int64\nTicket         891 non-null object\nFare           891 non-null float64\nCabin          204 non-null object\nEmbarked       889 non-null object\ndtypes: float64(2), int64(5), object(5)\nmemory usage: 83.6+ KB\ntrain_data_info: None\n<class 'pandas.core.frame.DataFrame'>\nRangeIndex: 418 entries, 0 to 417\nData columns (total 11 columns):\nPassengerId    418 non-null int64\nPclass         418 non-null int64\nName           418 non-null object\nSex            418 non-null object\nAge            332 non-null float64\nSibSp          418 non-null int64\nParch          418 non-null int64\nTicket         418 non-null object\nFare           417 non-null float64\nCabin          91 non-null object\nEmbarked       418 non-null object\ndtypes: float64(2), int64(4), object(5)\nmemory usage: 36.0+ KB\ntest_data_info: None\n"
     ]
    }
   ],
   "source": [
    "print('read data begin')\n",
    "train_file_path = 'data/Titanic/train.csv'\n",
    "test_file_path = 'data/Titanic/test.csv'\n",
    "train_data = pd.read_csv(train_file_path)\n",
    "test_data = pd.read_csv(test_file_path)\n",
    "print(train_data.columns)\n",
    "print(train_data.head(1))\n",
    "print('train_data_info:',train_data.info())\n",
    "print('test_data_info:',test_data.info())\n"
   ]
  },
  {
   "cell_type": "code",
   "execution_count": 15,
   "metadata": {},
   "outputs": [
    {
     "name": "stdout",
     "output_type": "stream",
     "text": [
      "begin data visualization\n"
     ]
    }
   ],
   "source": [
    "'''\n",
    "train_data:Age,Embarked and Cabin have nan value\n",
    "test_data:Age,Cabin,Fare have nan value\n",
    "'''\n",
    "print('begin data visualization')\n",
    "#DataFrame.plot( )画图函数\n",
    "train_data['Survived'].value_counts().plot(autopct = '%1.2f%%', kind='pie')\n",
    "plt.show()"
   ]
  },
  {
   "cell_type": "code",
   "execution_count": 17,
   "metadata": {},
   "outputs": [
    {
     "name": "stdout",
     "output_type": "stream",
     "text": [
      "分析性別与生存之间的关系\n"
     ]
    }
   ],
   "source": [
    "print(\"分析性別与生存之间的关系\")\n",
    "train_data[['Sex','Survived']].groupby(['Sex']).mean().plot.bar()\n",
    "plt.show()"
   ]
  },
  {
   "cell_type": "code",
   "execution_count": 19,
   "metadata": {},
   "outputs": [
    {
     "name": "stdout",
     "output_type": "stream",
     "text": [
      "船舱等级和生存的关系\n        Survived\nPclass          \n1            216\n2            184\n3            491\n"
     ]
    }
   ],
   "source": [
    "print(\"船舱等级和生存的关系\")\n",
    "print(train_data[['Pclass','Survived']].groupby(['Pclass']).count())\n",
    "train_data[['Pclass','Survived']].groupby(['Pclass']).mean().plot.bar()\n",
    "plt.show()"
   ]
  },
  {
   "cell_type": "code",
   "execution_count": 57,
   "metadata": {
    "collapsed": true
   },
   "outputs": [
    {
     "name": "stdout",
     "output_type": "stream",
     "text": [
      "姓名和生存的关系\n"
     ]
    }
   ],
   "source": [
    "print(\"姓名和生存的关系\")\n",
    "# 对姓名只取称呼部门，因为称呼决定了社会关系等。。。\n",
    "train_data['Title'] = train_data['Name'].str.extract(' ([A-Za-z]+)\\.', expand=False)\n",
    "a = train_data[['Title','Survived']].groupby(['Title']).count()/(train_data.shape[0])\n",
    "a.plot(kind='bar')\n",
    "plt.legend(loc='best')\n",
    "plt.show()"
   ]
  },
  {
   "cell_type": "code",
   "execution_count": 39,
   "metadata": {},
   "outputs": [
    {
     "name": "stdout",
     "output_type": "stream",
     "text": [
      "性别和生存关系\n"
     ]
    }
   ],
   "source": [
    "print('性别和生存关系')\n",
    "train_data[['Sex','Survived']].groupby(['Sex']).mean().plot.bar()\n",
    "plt.show()"
   ]
  },
  {
   "cell_type": "code",
   "execution_count": 65,
   "metadata": {},
   "outputs": [
    {
     "name": "stdout",
     "output_type": "stream",
     "text": [
      "年龄和生存的关系\n80.0\n"
     ]
    }
   ],
   "source": [
    "print('年龄和生存的关系')\n",
    "# 将年龄按照0-10,11-20,21-30....99-100分组\n",
    "print(np.max(train_data['Age']))\n",
    "age_data = train_data[['Sex','Survived']]\n",
    "age_data1= age_data[train_data['Age']<=10].mean().plot.bar()\n",
    "age_data2= age_data[(train_data['Age']>10) & (train_data['Age']<=20)]\n",
    "age_data3= age_data[(train_data['Age']>20) & (train_data['Age']<=30)]\n",
    "age_data4= age_data[(train_data['Age']>30) & (train_data['Age']<=40)]\n",
    "age_data5= age_data[(train_data['Age']>40) & (train_data['Age']<=50)]\n",
    "age_data6= age_data[(train_data['Age']>50) & (train_data['Age']<=60)]\n",
    "age_data7= age_data[(train_data['Age']>60) & (train_data['Age']<=70)]\n",
    "age_data8= age_data[(train_data['Age']>70) & (train_data['Age']<=80)]"
   ]
  },
  {
   "cell_type": "code",
   "execution_count": null,
   "metadata": {},
   "outputs": [],
   "source": []
  }
 ],
 "metadata": {
  "kernelspec": {
   "display_name": "Python 2",
   "language": "python",
   "name": "python2"
  },
  "language_info": {
   "codemirror_mode": {
    "name": "ipython",
    "version": 2
   },
   "file_extension": ".py",
   "mimetype": "text/x-python",
   "name": "python",
   "nbconvert_exporter": "python",
   "pygments_lexer": "ipython2",
   "version": "2.7.6"
  }
 },
 "nbformat": 4,
 "nbformat_minor": 0
}
