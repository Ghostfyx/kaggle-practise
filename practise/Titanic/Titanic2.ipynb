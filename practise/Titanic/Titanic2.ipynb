{
 "cells": [
  {
   "cell_type": "code",
   "execution_count": 1,
   "metadata": {
    "collapsed": true
   },
   "outputs": [],
   "source": [
    "import pandas as pd\n",
    "import numpy as np\n",
    "import warnings\n",
    "warnings.filterwarnings('ignore')\n",
    "import seaborn as sns\n",
    "sns.set_style('whitegrid')\n",
    "import matplotlib.pyplot as plt\n",
    "import matplotlib as mpl\n",
    "# pandas一些属性设置\n",
    "pd.set_option('max_colwidth',20000)\n",
    "pd.set_option('display.width',200)\n",
    "pd.set_option('display.max_columns',500)\n",
    "pd.set_option('display.max_rows',1000)\n",
    "pd.set_option('display.unicode.ambiguous_as_wide', True)\n",
    "pd.set_option('display.unicode.east_asian_width', True)\n",
    "# matlab支持汉字\n",
    "mpl.rcParams[\"font.family\"]=\"sans-serif\"\n",
    "mpl.rcParams['font.sans-serif'] = ['SimHei']"
   ]
  },
  {
   "cell_type": "code",
   "execution_count": 2,
   "metadata": {},
   "outputs": [
    {
     "name": "stdout",
     "output_type": "stream",
     "text": [
      "read data begin\n    Age Cabin Embarked     Fare                                                 Name  Parch  PassengerId  Pclass     Sex  SibSp  Survived            Ticket\n0  22.0   NaN        S   7.2500                              Braund, Mr. Owen Harris      0            1       3    male      1       0.0         A/5 21171\n1  38.0   C85        C  71.2833  Cumings, Mrs. John Bradley (Florence Briggs Thayer)      0            2       1  female      1       1.0          PC 17599\n2  26.0   NaN        S   7.9250                               Heikkinen, Miss. Laina      0            3       3  female      0       1.0  STON/O2. 3101282\n3  35.0  C123        S  53.1000         Futrelle, Mrs. Jacques Heath (Lily May Peel)      0            4       1  female      1       1.0            113803\n4  35.0   NaN        S   8.0500                             Allen, Mr. William Henry      0            5       3    male      0       0.0            373450\n"
     ]
    }
   ],
   "source": [
    "print('read data begin')\n",
    "train_file_path = 'data/Titanic/train.csv'\n",
    "test_file_path = 'data/Titanic/test.csv'\n",
    "train_data = pd.read_csv(train_file_path, header=0)\n",
    "test_data = pd.read_csv(test_file_path, header=0)\n",
    "df = pd.concat([train_data, test_data], ignore_index=True)\n",
    "print(df.head())"
   ]
  },
  {
   "cell_type": "code",
   "execution_count": 3,
   "metadata": {},
   "outputs": [
    {
     "name": "stdout",
     "output_type": "stream",
     "text": [
      "开始处理缺省值\n<class 'pandas.core.frame.DataFrame'>\nRangeIndex: 1309 entries, 0 to 1308\nData columns (total 12 columns):\nAge            1046 non-null float64\nCabin          295 non-null object\nEmbarked       1307 non-null object\nFare           1308 non-null float64\nName           1309 non-null object\nParch          1309 non-null int64\nPassengerId    1309 non-null int64\nPclass         1309 non-null int64\nSex            1309 non-null object\nSibSp          1309 non-null int64\nSurvived       891 non-null float64\nTicket         1309 non-null object\ndtypes: float64(3), int64(4), object(5)\nmemory usage: 122.8+ KB\n--**----**----**----**----**----**----**----**----**----**--\n<class 'pandas.core.frame.DataFrame'>\nRangeIndex: 418 entries, 0 to 417\nData columns (total 11 columns):\nPassengerId    418 non-null int64\nPclass         418 non-null int64\nName           418 non-null object\nSex            418 non-null object\nAge            332 non-null float64\nSibSp          418 non-null int64\nParch          418 non-null int64\nTicket         418 non-null object\nFare           417 non-null float64\nCabin          91 non-null object\nEmbarked       418 non-null object\ndtypes: float64(2), int64(4), object(5)\nmemory usage: 36.0+ KB\n"
     ]
    }
   ],
   "source": [
    "print('开始处理缺省值')\n",
    "df.info()\n",
    "print('--**--'*10)\n",
    "test_data.info()"
   ]
  },
  {
   "cell_type": "code",
   "execution_count": 4,
   "metadata": {},
   "outputs": [
    {
     "data": {
      "text/plain": [
       "0"
      ]
     },
     "execution_count": 4,
     "metadata": {},
     "output_type": "execute_result"
    }
   ],
   "source": [
    "# 缺省值为：Age,Cabin,Embarked,Fare,Survived，其中Survived的缺省值可以忽略\n",
    "train_data_index = train_data.shape[0]\n",
    "# Cabin的缺省值过多\n",
    "df['Cabin'] = df['Cabin'].fillna(value='U0')\n",
    "# Embarked使用众数填充,对于分类变量，使用众数或许比平均值更好\n",
    "df['Embarked'] = df['Embarked'].fillna(value=df['Embarked'].mode().values[0])\n",
    "df['Embarked'].isnull().sum()"
   ]
  },
  {
   "cell_type": "code",
   "execution_count": 5,
   "metadata": {},
   "outputs": [
    {
     "name": "stdout",
     "output_type": "stream",
     "text": [
      "       Age Cabin Embarked  Fare                Name  Parch  PassengerId  Pclass   Sex  SibSp  Survived Ticket\n1043  60.5    U0        S   NaN  Storey, Mr. Thomas      0         1044       3  male      0       NaN   3701\n"
     ]
    }
   ],
   "source": [
    "# Fare的缺省值根据社会等级的平均票价决定\n",
    "print(df[df['Fare'].isnull()])\n",
    "df['Fare'] = df[['Fare','Pclass']].groupby('Pclass')['Fare'].transform(lambda x : x.fillna(x.mean()))"
   ]
  },
  {
   "cell_type": "code",
   "execution_count": 6,
   "metadata": {},
   "outputs": [
    {
     "name": "stdout",
     "output_type": "stream",
     "text": [
      "(177, 6)\n(714, 6)\n"
     ]
    },
    {
     "name": "stdout",
     "output_type": "stream",
     "text": [
      "0\n"
     ]
    }
   ],
   "source": [
    "'''\n",
    "使用回归 随机森林等模型来预测缺失属性的值。因为Age在该数据集里是一个相当重要的特征\n",
    "所以保证一定的缺失值填充准确率是非常重要的，对结果也会产生较大影响。一般情况下，会使用数据完整的条目作为模型的训练集，以此来预测缺失值。\n",
    "'''\n",
    "from sklearn.ensemble import RandomForestRegressor\n",
    "train_data = df.iloc[:train_data_index, :]\n",
    "age_train = train_data[['Age','Survived','Fare', 'Parch', 'SibSp', 'Pclass']]\n",
    "age_isnull = age_train[age_train['Age'].isnull()]\n",
    "age_notnull = age_train[age_train['Age'].notnull()]\n",
    "X = age_notnull.iloc[:, 1:]\n",
    "y = age_notnull.iloc[:, 0]\n",
    "print(age_isnull.shape)\n",
    "print(age_notnull.shape)\n",
    "rdf = RandomForestRegressor(n_estimators=1000, n_jobs=-1)\n",
    "rdf.fit(X, y)\n",
    "predict_ages = rdf.predict(age_isnull.iloc[:, 1:])\n",
    "predict_ages\n",
    "train_data.loc[train_data['Age'].isnull(), 'Age']= predict_ages\n",
    "print(train_data['Age'].isnull().sum())"
   ]
  },
  {
   "cell_type": "code",
   "execution_count": 7,
   "metadata": {},
   "outputs": [
    {
     "name": "stdout",
     "output_type": "stream",
     "text": [
      "开始数据可视化处理\n生存关系的整体分布\n"
     ]
    }
   ],
   "source": [
    "print('开始数据可视化处理')\n",
    "print('生存关系的整体分布')\n",
    "#DataFrame.plot( )画图函数\n",
    "train_data['Survived'].value_counts().plot(autopct = '%1.2f%%', kind='pie')\n",
    "plt.show()"
   ]
  },
  {
   "cell_type": "code",
   "execution_count": 8,
   "metadata": {},
   "outputs": [
    {
     "name": "stdout",
     "output_type": "stream",
     "text": [
      "分析性別与生存之间的关系\n"
     ]
    }
   ],
   "source": [
    "print(\"分析性別与生存之间的关系\")\n",
    "train_data[['Sex','Survived']].groupby(['Sex']).mean().plot.bar()\n",
    "plt.show()"
   ]
  },
  {
   "cell_type": "code",
   "execution_count": 9,
   "metadata": {},
   "outputs": [
    {
     "name": "stdout",
     "output_type": "stream",
     "text": [
      "船舱等级和生存的关系\n"
     ]
    }
   ],
   "source": [
    "print(\"船舱等级和生存的关系\")\n",
    "train_data[['Pclass','Survived']].groupby(['Pclass']).mean().plot.bar()\n",
    "plt.show()"
   ]
  },
  {
   "cell_type": "code",
   "execution_count": 10,
   "metadata": {},
   "outputs": [
    {
     "name": "stdout",
     "output_type": "stream",
     "text": [
      "姓名和生存的关系\n"
     ]
    }
   ],
   "source": [
    "print(\"姓名和生存的关系\")\n",
    "# 对姓名只取称呼部门，因为称呼决定了社会关系等。。。\n",
    "train_data['Title'] = train_data['Name'].str.extract(' ([A-Za-z]+)\\.', expand=False)\n",
    "pd.crosstab(train_data['Title'], train_data['Sex'])\n",
    "a = train_data[['Title','Survived']].groupby(['Title']).mean()\n",
    "a.plot(kind='bar')\n",
    "plt.legend(loc='best')\n",
    "plt.show()"
   ]
  },
  {
   "cell_type": "code",
   "execution_count": 11,
   "metadata": {},
   "outputs": [
    {
     "name": "stdout",
     "output_type": "stream",
     "text": [
      "年龄和生存的关系\n各个年龄分布的直方图\n80.0\n"
     ]
    }
   ],
   "source": [
    "print('年龄和生存的关系')\n",
    "print('各个年龄分布的直方图')\n",
    "print(np.max(train_data['Age']))\n",
    "plt.figure(figsize=(8,10))\n",
    "train_data['Age'].hist(bins=70)\n",
    "plt.xlabel('Age')\n",
    "plt.ylabel('Num')\n",
    "plt.show()"
   ]
  },
  {
   "cell_type": "code",
   "execution_count": 12,
   "metadata": {},
   "outputs": [],
   "source": [
    "fig, ax = plt.subplots(1, 2, figsize = (18, 8))\n",
    "# 琴式图\n",
    "sns.violinplot(\"Pclass\", \"Age\", hue=\"Survived\", data=train_data, split=True, ax=ax[0])\n",
    "ax[0].set_title('Pclass and Age vs Survived')\n",
    "ax[0].set_yticks(range(0, 110, 10))\n",
    "\n",
    "sns.violinplot(\"Sex\", \"Age\", hue=\"Survived\", data=train_data, split=True, ax=ax[1])\n",
    "ax[1].set_title('Sex and Age vs Survived')\n",
    "ax[1].set_yticks(range(0, 110, 10))\n",
    "\n",
    "plt.show()\n"
   ]
  },
  {
   "cell_type": "code",
   "execution_count": 13,
   "metadata": {},
   "outputs": [],
   "source": [
    "\n",
    "train_data.boxplot(column='Age', showfliers=False)\n",
    "plt.show()\n"
   ]
  },
  {
   "cell_type": "code",
   "execution_count": 14,
   "metadata": {},
   "outputs": [],
   "source": [
    "facet = sns.FacetGrid(train_data, hue=\"Survived\",aspect=4)\n",
    "# kdeplot核密度估计图\n",
    "facet.map(sns.kdeplot,'Age',shade= True)\n",
    "facet.set(xlim=(0, train_data['Age'].max()))\n",
    "facet.add_legend()\n",
    "plt.show()"
   ]
  },
  {
   "cell_type": "code",
   "execution_count": 15,
   "metadata": {},
   "outputs": [],
   "source": [
    "fig, axis1 = plt.subplots(1,1,figsize=(18,4))\n",
    "train_data[\"Age_int\"] = train_data[\"Age\"].astype(int)\n",
    "average_age = train_data[[\"Age_int\", \"Survived\"]].groupby(['Age_int'],as_index=False).mean()\n",
    "sns.barplot(x='Age_int', y='Survived', data=average_age)\n",
    "plt.show()"
   ]
  },
  {
   "cell_type": "code",
   "execution_count": 16,
   "metadata": {},
   "outputs": [
    {
     "data": {
      "text/plain": [
       "count    891.000000\nmean      29.669281\nstd       13.740915\nmin        0.420000\n25%       21.000000\n50%       28.000000\n75%       37.000000\nmax       80.000000\nName: Age, dtype: float64"
      ]
     },
     "execution_count": 16,
     "metadata": {},
     "output_type": "execute_result"
    }
   ],
   "source": [
    "train_data['Age'].describe()"
   ]
  },
  {
   "cell_type": "code",
   "execution_count": 17,
   "metadata": {},
   "outputs": [],
   "source": [
    "# 按照年龄，将乘客划分为儿童、少年、成年和老年，分析四个群体的生还情况\n",
    "split = [0, 12, 18, 65, 100]\n",
    "train_data['Age_group'] = pd.cut(train_data['Age'], bins=split)\n",
    "by_age = train_data.groupby('Age_group')['Survived'].mean()\n",
    "by_age.plot(kind='bar')\n",
    "plt.show()"
   ]
  },
  {
   "cell_type": "code",
   "execution_count": 18,
   "metadata": {},
   "outputs": [
    {
     "name": "stdout",
     "output_type": "stream",
     "text": [
      "船上兄弟姐妹和配偶的数目与生存关系\n"
     ]
    }
   ],
   "source": [
    "title='SibSp relationship with Survived'\n",
    "print('船上兄弟姐妹和配偶的数目与生存关系')\n",
    "train_data[['SibSp','Survived']].groupby(['SibSp']).mean().plot.bar()\n",
    "plt.title(title)\n",
    "plt.show()"
   ]
  },
  {
   "cell_type": "code",
   "execution_count": 19,
   "metadata": {},
   "outputs": [
    {
     "name": "stdout",
     "output_type": "stream",
     "text": [
      "船上父母，子女的数目与生存关系\n"
     ]
    }
   ],
   "source": [
    "title='Parch relationship with Survived'\n",
    "print('船上父母，子女的数目与生存关系')\n",
    "train_data[['Parch','Survived']].groupby(['Parch']).mean().plot.bar()\n",
    "plt.title(title)\n",
    "plt.show()"
   ]
  },
  {
   "cell_type": "code",
   "execution_count": 20,
   "metadata": {},
   "outputs": [
    {
     "name": "stdout",
     "output_type": "stream",
     "text": [
      "船上亲戚的数目与生存的关系\n从图表中可以看出，若独自一人，那么其存活率比较低；但是如果亲友太多的话，存活率也会很低。\n"
     ]
    }
   ],
   "source": [
    "print('船上亲戚的数目与生存的关系')\n",
    "train_data['Family'] = train_data['Parch']+train_data['SibSp']\n",
    "train_data[['Family','Survived']].groupby(['Family']).mean().plot.bar()\n",
    "plt.show()\n",
    "print('从图表中可以看出，若独自一人，那么其存活率比较低；但是如果亲友太多的话，存活率也会很低。')"
   ]
  },
  {
   "cell_type": "code",
   "execution_count": 21,
   "metadata": {},
   "outputs": [
    {
     "name": "stdout",
     "output_type": "stream",
     "text": [
      "票价分布的直方图\n"
     ]
    }
   ],
   "source": [
    "print('票价分布的直方图')\n",
    "plt.figure(figsize=(8,15))\n",
    "train_data['Fare'].hist(bins=70)\n",
    "plt.show()"
   ]
  },
  {
   "cell_type": "code",
   "execution_count": 22,
   "metadata": {},
   "outputs": [
    {
     "name": "stdout",
     "output_type": "stream",
     "text": [
      "票价与社会阶级之间的关系\n"
     ]
    }
   ],
   "source": [
    "print('票价与社会阶级之间的关系')\n",
    "plt.figure(figsize=(8,10))\n",
    "train_data.groupby(['Pclass'])['Fare'].mean().plot.bar(width=0.1)\n",
    "plt.show()"
   ]
  },
  {
   "cell_type": "code",
   "execution_count": 23,
   "metadata": {},
   "outputs": [
    {
     "data": {
      "text/plain": [
       "count    891.000000\nmean      32.204208\nstd       49.693429\nmin        0.000000\n25%        7.910400\n50%       14.454200\n75%       31.000000\nmax      512.329200\nName: Fare, dtype: float64"
      ]
     },
     "execution_count": 23,
     "metadata": {},
     "output_type": "execute_result"
    }
   ],
   "source": [
    "train_data['Fare'].describe()"
   ]
  },
  {
   "cell_type": "code",
   "execution_count": 24,
   "metadata": {},
   "outputs": [
    {
     "name": "stdout",
     "output_type": "stream",
     "text": [
      "船舱编号和生存之间的关系\n"
     ]
    }
   ],
   "source": [
    "print('船舱编号和生存之间的关系')\n",
    "# Cabin缺省的字段较多，先将缺省船舱编号的和非缺省船舱编码号的进行对比\n",
    "train_data['Has_Cabin'] = train_data['Cabin'].apply(lambda x : 0 if x=='U0' else 1)\n",
    "train_data[['Has_Cabin','Survived']].groupby(['Has_Cabin']).mean().plot.bar(width=0.2)\n",
    "plt.show()\n",
    "# 有船舱的人存活率更高"
   ]
  },
  {
   "cell_type": "code",
   "execution_count": 25,
   "metadata": {},
   "outputs": [
    {
     "name": "stdout",
     "output_type": "stream",
     "text": [
      "不同登录港口和生存之间的关系\n"
     ]
    }
   ],
   "source": [
    "print('不同登录港口和生存之间的关系')\n",
    "train_data[['Embarked','Survived']].groupby(['Embarked']).mean().plot.bar(width=0.2)\n",
    "plt.show()\n",
    "# 由上可以看出，在不同的港口上船，生还率不同，C最高，Q次之，S最低。"
   ]
  },
  {
   "cell_type": "code",
   "execution_count": 26,
   "metadata": {},
   "outputs": [
    {
     "name": "stdout",
     "output_type": "stream",
     "text": [
      "开始特征工程\n<class 'pandas.core.frame.DataFrame'>\nRangeIndex: 1309 entries, 0 to 1308\nData columns (total 12 columns):\nAge            1223 non-null float64\nCabin          1309 non-null object\nEmbarked       1309 non-null object\nFare           1309 non-null float64\nName           1309 non-null object\nParch          1309 non-null int64\nPassengerId    1309 non-null int64\nPclass         1309 non-null int64\nSex            1309 non-null object\nSibSp          1309 non-null int64\nSurvived       891 non-null float64\nTicket         1309 non-null object\ndtypes: float64(3), int64(4), object(5)\nmemory usage: 122.8+ KB\nNone\n"
     ]
    }
   ],
   "source": [
    "print('开始特征工程')\n",
    "# 在进行特征工程的时候，我们不仅需要对训练数据进行处理，还需要同时将测试数据同训练数据一起处理，使得二者具有相同的数据类型和数据分布。\n",
    "print(df.info())"
   ]
  },
  {
   "cell_type": "code",
   "execution_count": 27,
   "metadata": {},
   "outputs": [
    {
     "name": "stdout",
     "output_type": "stream",
     "text": [
      "首先对离散型类别变量进行处理\n开始对Embarked进行处理\n<class 'pandas.core.frame.DataFrame'>\nRangeIndex: 1309 entries, 0 to 1308\nData columns (total 15 columns):\nEmbarked_C     1309 non-null uint8\nEmbarked_Q     1309 non-null uint8\nEmbarked_S     1309 non-null uint8\nAge            1223 non-null float64\nCabin          1309 non-null object\nEmbarked       1309 non-null object\nFare           1309 non-null float64\nName           1309 non-null object\nParch          1309 non-null int64\nPassengerId    1309 non-null int64\nPclass         1309 non-null int64\nSex            1309 non-null object\nSibSp          1309 non-null int64\nSurvived       891 non-null float64\nTicket         1309 non-null object\ndtypes: float64(3), int64(4), object(5), uint8(3)\nmemory usage: 126.6+ KB\nNone\n"
     ]
    }
   ],
   "source": [
    "print('首先对离散型类别变量进行处理')\n",
    "# 使用one-hot编码对离散型类别进行处理\n",
    "print('开始对Embarked进行处理')\n",
    "emb_dummies_df = pd.get_dummies(df['Embarked'], prefix=df[['Embarked']].columns[0])\n",
    "df = pd.concat([emb_dummies_df, df], axis=1,)\n",
    "print(df.info())"
   ]
  },
  {
   "cell_type": "code",
   "execution_count": 28,
   "metadata": {},
   "outputs": [
    {
     "name": "stdout",
     "output_type": "stream",
     "text": [
      "开始对性别进行处理\n<class 'pandas.core.frame.DataFrame'>\nRangeIndex: 1309 entries, 0 to 1308\nData columns (total 17 columns):\nSex_female     1309 non-null uint8\nSex_male       1309 non-null uint8\nEmbarked_C     1309 non-null uint8\nEmbarked_Q     1309 non-null uint8\nEmbarked_S     1309 non-null uint8\nAge            1223 non-null float64\nCabin          1309 non-null object\nEmbarked       1309 non-null object\nFare           1309 non-null float64\nName           1309 non-null object\nParch          1309 non-null int64\nPassengerId    1309 non-null int64\nPclass         1309 non-null int64\nSex            1309 non-null object\nSibSp          1309 non-null int64\nSurvived       891 non-null float64\nTicket         1309 non-null object\ndtypes: float64(3), int64(4), object(5), uint8(5)\nmemory usage: 129.2+ KB\nNone\n"
     ]
    }
   ],
   "source": [
    "print('开始对性别进行处理')\n",
    "sex_dummies_df = pd.get_dummies(df['Sex'], prefix=df[['Sex']].columns[0])\n",
    "df = pd.concat([sex_dummies_df, df], axis=1)\n",
    "print(df.info())"
   ]
  },
  {
   "cell_type": "code",
   "execution_count": 29,
   "metadata": {
    "collapsed": false
   },
   "outputs": [
    {
     "name": "stdout",
     "output_type": "stream",
     "text": [
      "开始对姓名进行处理\n首先对称呼进行提取\n['Mr' 'Mrs' 'Miss' 'Master' 'Don' 'Rev' 'Dr' 'Mme' 'Ms' 'Major' 'Lady'\n 'Sir' 'Mlle' 'Col' 'Capt' 'Countess' 'Jonkheer' 'Dona']\n0\n<class 'pandas.core.frame.DataFrame'>\nRangeIndex: 1309 entries, 0 to 1308\nData columns (total 24 columns):\nTitle_Master     1309 non-null uint8\nTitle_Miss       1309 non-null uint8\nTitle_Mr         1309 non-null uint8\nTitle_Mrs        1309 non-null uint8\nTitle_Officer    1309 non-null uint8\nTitle_Royalty    1309 non-null uint8\nSex_female       1309 non-null uint8\nSex_male         1309 non-null uint8\nEmbarked_C       1309 non-null uint8\nEmbarked_Q       1309 non-null uint8\nEmbarked_S       1309 non-null uint8\nAge              1223 non-null float64\nCabin            1309 non-null object\nEmbarked         1309 non-null object\nFare             1309 non-null float64\nName             1309 non-null object\nParch            1309 non-null int64\nPassengerId      1309 non-null int64\nPclass           1309 non-null int64\nSex              1309 non-null object\nSibSp            1309 non-null int64\nSurvived         891 non-null float64\nTicket           1309 non-null object\nTitle            1309 non-null object\ndtypes: float64(3), int64(4), object(6), uint8(11)\nmemory usage: 147.1+ KB\nNone\n"
     ]
    }
   ],
   "source": [
    "print('开始对姓名进行处理')\n",
    "print('首先对称呼进行提取')\n",
    "df['Title'] = df['Name'].str.extract(' ([A-Za-z]+)\\.', expand=False)\n",
    "print(df['Title'].unique())\n",
    "print(df['Title'].isnull().sum())\n",
    "# dict.fromkeys用于创建一个新字典，以序列seq中元素做字典的键，value为字典所有键对应的初始值\n",
    "title_Dict = {}\n",
    "# 对应官员\n",
    "title_Dict.update(dict.fromkeys(['Capt', 'Col', 'Major', 'Dr', 'Rev'], 'Officer'))\n",
    "# 对应皇室成员\n",
    "title_Dict.update(dict.fromkeys(['Don', 'Sir', 'Countess', 'Dona', 'Lady'], 'Royalty'))\n",
    "# Mrs已婚女性\n",
    "title_Dict.update(dict.fromkeys(['Mme', 'Ms', 'Mrs'], 'Mrs'))\n",
    "title_Dict.update(dict.fromkeys(['Mlle', 'Miss'], 'Miss'))\n",
    "title_Dict.update(dict.fromkeys(['Mr'], 'Mr'))\n",
    "# Master 未成年男少主人的称呼,相当于汉语的\"少爷\n",
    "title_Dict.update(dict.fromkeys(['Master','Jonkheer'], 'Master'))\n",
    "df['Title'] = df['Title'].map(title_Dict)\n",
    "title_dummies_df = pd.get_dummies(df['Title'], prefix=df[['Title']].columns[0])\n",
    "df = pd.concat([title_dummies_df, df], axis=1)\n",
    "print(df.info())"
   ]
  },
  {
   "cell_type": "code",
   "execution_count": 30,
   "metadata": {
    "collapsed": true
   },
   "outputs": [
    {
     "name": "stdout",
     "output_type": "stream",
     "text": [
      "开始对Ticket进行处理\n数据集的长度为：1309;不同Ticket的长度为：929\n有重复的船票编号，因此可能出现家庭/团体票\n"
     ]
    }
   ],
   "source": [
    "print('开始对Ticket进行处理')\n",
    "m = df.shape[0]\n",
    "ticket_len = len(df['Ticket'].unique())\n",
    "print('数据集的长度为：%d;不同Ticket的长度为：%d'%(m,ticket_len))\n",
    "if m == ticket_len:\n",
    "    print('没有重复的船票编号')\n",
    "else:\n",
    "    print('有重复的船票编号，因此可能出现家庭/团体票')"
   ]
  },
  {
   "cell_type": "code",
   "execution_count": 31,
   "metadata": {},
   "outputs": [
    {
     "name": "stdout",
     "output_type": "stream",
     "text": [
      "   Group_Ticket  Fare_mean  Pclass\n0             1     7.2500       3\n1             2    71.2833       1\n2             1     7.9250       3\n3             2    53.1000       1\n4             1     8.0500       3\n"
     ]
    }
   ],
   "source": [
    "# 船票编号和票价有必然关系，因此将团体票的人所付的票价与非团体票所付的票价相对比\n",
    "df['Group_Ticket'] = df[['Ticket','Fare']].groupby('Ticket').transform('count')\n",
    "# 通过Group_Ticket可以看出每个票编码的购买人数\n",
    "df['Fare_mean'] = df.groupby('Ticket')['Fare'].transform('mean')\n",
    "print(df[['Group_Ticket','Fare_mean','Pclass']].head())"
   ]
  },
  {
   "cell_type": "code",
   "execution_count": 32,
   "metadata": {},
   "outputs": [
    {
     "data": {
      "text/plain": [
       "0     7.25000\n1    35.64165\n2     7.92500\n3    26.55000\n4     8.05000\nName: Fare, dtype: float64"
      ]
     },
     "execution_count": 32,
     "metadata": {},
     "output_type": "execute_result"
    }
   ],
   "source": [
    "df['Fare'] = df['Fare']/df['Group_Ticket']\n",
    "df['Fare'].head()"
   ]
  },
  {
   "cell_type": "code",
   "execution_count": 33,
   "metadata": {},
   "outputs": [],
   "source": [
    "# 将票价划分为5组,qcut将数据分组\n",
    "df['Fare_bin'] = pd.qcut(df['Fare'], 5)\n",
    "df[\"Fare_bin\"].unique()\n",
    "# factorize方法将标称型类别变量映射为数值型类别变量，返回值为一个二元组\n",
    "df['Fare_bin_id'] = pd.factorize(df['Fare_bin'])[0]\n"
   ]
  },
  {
   "cell_type": "code",
   "execution_count": 35,
   "metadata": {},
   "outputs": [
    {
     "name": "stdout",
     "output_type": "stream",
     "text": [
      "   Fare_0  Fare_1  Fare_2  Fare_3  Fare_4  0  1  2  3  4  Title_Master  Title_Miss  Title_Mr  Title_Mrs  Title_Officer  Title_Royalty  Sex_female  Sex_male  Embarked_C  Embarked_Q  Embarked_S   Age  \\\n0       1       0       0       0       0  1  0  0  0  0             0           0         1          0              0              0           0         1           0           0           1  22.0   \n1       0       1       0       0       0  0  1  0  0  0             0           0         0          1              0              0           1         0           1           0           0  38.0   \n2       0       0       1       0       0  0  0  1  0  0             0           1         0          0              0              0           1         0           0           0           1  26.0   \n3       0       1       0       0       0  0  1  0  0  0             0           0         0          1              0              0           1         0           0           0           1  35.0   \n4       0       0       1       0       0  0  0  1  0  0             0           0         1          0              0              0           0         1           0           0           1  35.0   \n\n  Cabin Embarked      Fare                                                 Name  Parch  PassengerId  Pclass     Sex  SibSp  Survived            Ticket Title  Group_Ticket  Fare_mean  \\\n0    U0        S   7.25000                              Braund, Mr. Owen Harris      0            1       3    male      1       0.0         A/5 21171    Mr             1     7.2500   \n1   C85        C  35.64165  Cumings, Mrs. John Bradley (Florence Briggs Thayer)      0            2       1  female      1       1.0          PC 17599   Mrs             2    71.2833   \n2    U0        S   7.92500                               Heikkinen, Miss. Laina      0            3       3  female      0       1.0  STON/O2. 3101282  Miss             1     7.9250   \n3  C123        S  26.55000         Futrelle, Mrs. Jacques Heath (Lily May Peel)      0            4       1  female      1       1.0            113803   Mrs             2    53.1000   \n4    U0        S   8.05000                             Allen, Mr. William Henry      0            5       3    male      0       0.0            373450    Mr             1     8.0500   \n\n            Fare_bin  Fare_bin_id  \n0     (7.229, 7.896]            0  \n1  (26.277, 128.082]            1  \n2      (7.896, 10.5]            2  \n3  (26.277, 128.082]            1  \n4      (7.896, 10.5]            2  \n"
     ]
    }
   ],
   "source": [
    "fare_bin_dummies_df = pd.get_dummies(df['Fare_bin_id'], prefix='Fare')\n",
    "df = pd.concat([fare_bin_dummies_df, df], axis=1)\n",
    "print(df.head())"
   ]
  },
  {
   "cell_type": "code",
   "execution_count": 43,
   "metadata": {},
   "outputs": [
    {
     "name": "stdout",
     "output_type": "stream",
     "text": [
      "   Fare_0  Fare_1  Fare_2  Fare_3  Fare_4  0  1  2  3  4  Title_Master  Title_Miss  Title_Mr  Title_Mrs  Title_Officer  Title_Royalty  Sex_female  Sex_male  Embarked_C  Embarked_Q  Embarked_S   Age  \\\n0       1       0       0       0       0  1  0  0  0  0             0           0         1          0              0              0           0         1           0           0           1  22.0   \n1       0       1       0       0       0  0  1  0  0  0             0           0         0          1              0              0           1         0           1           0           0  38.0   \n2       0       0       1       0       0  0  0  1  0  0             0           1         0          0              0              0           1         0           0           0           1  26.0   \n3       0       1       0       0       0  0  1  0  0  0             0           0         0          1              0              0           1         0           0           0           1  35.0   \n4       0       0       1       0       0  0  0  1  0  0             0           0         1          0              0              0           0         1           0           0           1  35.0   \n\n  Cabin Embarked      Fare                                                 Name  Parch  PassengerId  Pclass     Sex  SibSp  Survived            Ticket Title  Group_Ticket  Fare_mean  \n0    U0        S   7.25000                              Braund, Mr. Owen Harris      0            1       3    male      1       0.0         A/5 21171    Mr             1     7.2500  \n1   C85        C  35.64165  Cumings, Mrs. John Bradley (Florence Briggs Thayer)      0            2       1  female      1       1.0          PC 17599   Mrs             2    71.2833  \n2    U0        S   7.92500                               Heikkinen, Miss. Laina      0            3       3  female      0       1.0  STON/O2. 3101282  Miss             1     7.9250  \n3  C123        S  26.55000         Futrelle, Mrs. Jacques Heath (Lily May Peel)      0            4       1  female      1       1.0            113803   Mrs             2    53.1000  \n4    U0        S   8.05000                             Allen, Mr. William Henry      0            5       3    male      0       0.0            373450    Mr             1     8.0500  \n"
     ]
    }
   ],
   "source": [
    "df.drop(['Fare_bin_id'], axis=1, inplace=True)\n",
    "print(df.head())"
   ]
  },
  {
   "cell_type": "code",
   "execution_count": 51,
   "metadata": {},
   "outputs": [
    {
     "ename": "KeyError",
     "evalue": "'[0 1 2 3 4] not found in axis'",
     "traceback": [
      "\u001b[0;31m---------------------------------------------------------------------------\u001b[0m",
      "\u001b[0;31mKeyError\u001b[0m                                  Traceback (most recent call last)",
      "\u001b[0;32m<ipython-input-51-69e4447f99a7>\u001b[0m in \u001b[0;36m<module>\u001b[0;34m()\u001b[0m\n\u001b[0;32m----> 1\u001b[0;31m \u001b[0mdf\u001b[0m\u001b[0;34m.\u001b[0m\u001b[0mdrop\u001b[0m\u001b[0;34m(\u001b[0m\u001b[0;34m[\u001b[0m\u001b[0;36m0\u001b[0m\u001b[0;34m,\u001b[0m\u001b[0;36m1\u001b[0m\u001b[0;34m,\u001b[0m\u001b[0;36m2\u001b[0m\u001b[0;34m,\u001b[0m\u001b[0;36m3\u001b[0m\u001b[0;34m,\u001b[0m\u001b[0;36m4\u001b[0m\u001b[0;34m]\u001b[0m\u001b[0;34m,\u001b[0m \u001b[0maxis\u001b[0m\u001b[0;34m=\u001b[0m\u001b[0;36m1\u001b[0m\u001b[0;34m,\u001b[0m \u001b[0minplace\u001b[0m\u001b[0;34m=\u001b[0m\u001b[0;32mTrue\u001b[0m\u001b[0;34m)\u001b[0m\u001b[0;34m\u001b[0m\u001b[0m\n\u001b[0m\u001b[1;32m      2\u001b[0m \u001b[0mdf\u001b[0m\u001b[0;34m[\u001b[0m\u001b[0;34m'FamilySize'\u001b[0m\u001b[0;34m]\u001b[0m \u001b[0;34m=\u001b[0m \u001b[0mdf\u001b[0m\u001b[0;34m[\u001b[0m\u001b[0;34m'Parch'\u001b[0m\u001b[0;34m]\u001b[0m \u001b[0;34m+\u001b[0m \u001b[0mdf\u001b[0m\u001b[0;34m[\u001b[0m\u001b[0;34m'SibSp'\u001b[0m\u001b[0;34m]\u001b[0m\u001b[0;34m+\u001b[0m\u001b[0;36m1\u001b[0m\u001b[0;34m\u001b[0m\u001b[0m\n\u001b[1;32m      3\u001b[0m \u001b[0mdf\u001b[0m\u001b[0;34m.\u001b[0m\u001b[0minfo\u001b[0m\u001b[0;34m(\u001b[0m\u001b[0;34m)\u001b[0m\u001b[0;34m\u001b[0m\u001b[0m\n",
      "\u001b[0;32mC:\\Users\\Administrator\\venv\\lib\\site-packages\\pandas\\core\\frame.py\u001b[0m in \u001b[0;36mdrop\u001b[0;34m(self, labels, axis, index, columns, level, inplace, errors)\u001b[0m\n\u001b[1;32m   3695\u001b[0m                                            \u001b[0mindex\u001b[0m\u001b[0;34m=\u001b[0m\u001b[0mindex\u001b[0m\u001b[0;34m,\u001b[0m \u001b[0mcolumns\u001b[0m\u001b[0;34m=\u001b[0m\u001b[0mcolumns\u001b[0m\u001b[0;34m,\u001b[0m\u001b[0;34m\u001b[0m\u001b[0m\n\u001b[1;32m   3696\u001b[0m                                            \u001b[0mlevel\u001b[0m\u001b[0;34m=\u001b[0m\u001b[0mlevel\u001b[0m\u001b[0;34m,\u001b[0m \u001b[0minplace\u001b[0m\u001b[0;34m=\u001b[0m\u001b[0minplace\u001b[0m\u001b[0;34m,\u001b[0m\u001b[0;34m\u001b[0m\u001b[0m\n\u001b[0;32m-> 3697\u001b[0;31m                                            errors=errors)\n\u001b[0m\u001b[1;32m   3698\u001b[0m \u001b[0;34m\u001b[0m\u001b[0m\n\u001b[1;32m   3699\u001b[0m     @rewrite_axis_style_signature('mapper', [('copy', True),\n",
      "\u001b[0;32mC:\\Users\\Administrator\\venv\\lib\\site-packages\\pandas\\core\\generic.py\u001b[0m in \u001b[0;36mdrop\u001b[0;34m(self, labels, axis, index, columns, level, inplace, errors)\u001b[0m\n\u001b[1;32m   3109\u001b[0m         \u001b[0;32mfor\u001b[0m \u001b[0maxis\u001b[0m\u001b[0;34m,\u001b[0m \u001b[0mlabels\u001b[0m \u001b[0;32min\u001b[0m \u001b[0maxes\u001b[0m\u001b[0;34m.\u001b[0m\u001b[0mitems\u001b[0m\u001b[0;34m(\u001b[0m\u001b[0;34m)\u001b[0m\u001b[0;34m:\u001b[0m\u001b[0;34m\u001b[0m\u001b[0m\n\u001b[1;32m   3110\u001b[0m             \u001b[0;32mif\u001b[0m \u001b[0mlabels\u001b[0m \u001b[0;32mis\u001b[0m \u001b[0;32mnot\u001b[0m \u001b[0;32mNone\u001b[0m\u001b[0;34m:\u001b[0m\u001b[0;34m\u001b[0m\u001b[0m\n\u001b[0;32m-> 3111\u001b[0;31m                 \u001b[0mobj\u001b[0m \u001b[0;34m=\u001b[0m \u001b[0mobj\u001b[0m\u001b[0;34m.\u001b[0m\u001b[0m_drop_axis\u001b[0m\u001b[0;34m(\u001b[0m\u001b[0mlabels\u001b[0m\u001b[0;34m,\u001b[0m \u001b[0maxis\u001b[0m\u001b[0;34m,\u001b[0m \u001b[0mlevel\u001b[0m\u001b[0;34m=\u001b[0m\u001b[0mlevel\u001b[0m\u001b[0;34m,\u001b[0m \u001b[0merrors\u001b[0m\u001b[0;34m=\u001b[0m\u001b[0merrors\u001b[0m\u001b[0;34m)\u001b[0m\u001b[0;34m\u001b[0m\u001b[0m\n\u001b[0m\u001b[1;32m   3112\u001b[0m \u001b[0;34m\u001b[0m\u001b[0m\n\u001b[1;32m   3113\u001b[0m         \u001b[0;32mif\u001b[0m \u001b[0minplace\u001b[0m\u001b[0;34m:\u001b[0m\u001b[0;34m\u001b[0m\u001b[0m\n",
      "\u001b[0;32mC:\\Users\\Administrator\\venv\\lib\\site-packages\\pandas\\core\\generic.py\u001b[0m in \u001b[0;36m_drop_axis\u001b[0;34m(self, labels, axis, level, errors)\u001b[0m\n\u001b[1;32m   3141\u001b[0m                 \u001b[0mnew_axis\u001b[0m \u001b[0;34m=\u001b[0m \u001b[0maxis\u001b[0m\u001b[0;34m.\u001b[0m\u001b[0mdrop\u001b[0m\u001b[0;34m(\u001b[0m\u001b[0mlabels\u001b[0m\u001b[0;34m,\u001b[0m \u001b[0mlevel\u001b[0m\u001b[0;34m=\u001b[0m\u001b[0mlevel\u001b[0m\u001b[0;34m,\u001b[0m \u001b[0merrors\u001b[0m\u001b[0;34m=\u001b[0m\u001b[0merrors\u001b[0m\u001b[0;34m)\u001b[0m\u001b[0;34m\u001b[0m\u001b[0m\n\u001b[1;32m   3142\u001b[0m             \u001b[0;32melse\u001b[0m\u001b[0;34m:\u001b[0m\u001b[0;34m\u001b[0m\u001b[0m\n\u001b[0;32m-> 3143\u001b[0;31m                 \u001b[0mnew_axis\u001b[0m \u001b[0;34m=\u001b[0m \u001b[0maxis\u001b[0m\u001b[0;34m.\u001b[0m\u001b[0mdrop\u001b[0m\u001b[0;34m(\u001b[0m\u001b[0mlabels\u001b[0m\u001b[0;34m,\u001b[0m \u001b[0merrors\u001b[0m\u001b[0;34m=\u001b[0m\u001b[0merrors\u001b[0m\u001b[0;34m)\u001b[0m\u001b[0;34m\u001b[0m\u001b[0m\n\u001b[0m\u001b[1;32m   3144\u001b[0m             \u001b[0mresult\u001b[0m \u001b[0;34m=\u001b[0m \u001b[0mself\u001b[0m\u001b[0;34m.\u001b[0m\u001b[0mreindex\u001b[0m\u001b[0;34m(\u001b[0m\u001b[0;34m**\u001b[0m\u001b[0;34m{\u001b[0m\u001b[0maxis_name\u001b[0m\u001b[0;34m:\u001b[0m \u001b[0mnew_axis\u001b[0m\u001b[0;34m}\u001b[0m\u001b[0;34m)\u001b[0m\u001b[0;34m\u001b[0m\u001b[0m\n\u001b[1;32m   3145\u001b[0m \u001b[0;34m\u001b[0m\u001b[0m\n",
      "\u001b[0;32mC:\\Users\\Administrator\\venv\\lib\\site-packages\\pandas\\core\\indexes\\base.py\u001b[0m in \u001b[0;36mdrop\u001b[0;34m(self, labels, errors)\u001b[0m\n\u001b[1;32m   4402\u001b[0m             \u001b[0;32mif\u001b[0m \u001b[0merrors\u001b[0m \u001b[0;34m!=\u001b[0m \u001b[0;34m'ignore'\u001b[0m\u001b[0;34m:\u001b[0m\u001b[0;34m\u001b[0m\u001b[0m\n\u001b[1;32m   4403\u001b[0m                 raise KeyError(\n\u001b[0;32m-> 4404\u001b[0;31m                     '{} not found in axis'.format(labels[mask]))\n\u001b[0m\u001b[1;32m   4405\u001b[0m             \u001b[0mindexer\u001b[0m \u001b[0;34m=\u001b[0m \u001b[0mindexer\u001b[0m\u001b[0;34m[\u001b[0m\u001b[0;34m~\u001b[0m\u001b[0mmask\u001b[0m\u001b[0;34m]\u001b[0m\u001b[0;34m\u001b[0m\u001b[0m\n\u001b[1;32m   4406\u001b[0m         \u001b[0;32mreturn\u001b[0m \u001b[0mself\u001b[0m\u001b[0;34m.\u001b[0m\u001b[0mdelete\u001b[0m\u001b[0;34m(\u001b[0m\u001b[0mindexer\u001b[0m\u001b[0;34m)\u001b[0m\u001b[0;34m\u001b[0m\u001b[0m\n",
      "\u001b[0;31mKeyError\u001b[0m: '[0 1 2 3 4] not found in axis'"
     ],
     "output_type": "error"
    }
   ],
   "source": [
    "df.drop([0,1,2,3,4], axis=1, inplace=True)\n",
    "df['FamilySize'] = df['Parch'] + df['SibSp']+1\n",
    "df.info()"
   ]
  },
  {
   "cell_type": "code",
   "execution_count": 54,
   "metadata": {},
   "outputs": [
    {
     "name": "stdout",
     "output_type": "stream",
     "text": [
      "开始对连续型特征进行处理\n开始处理Pclass\n[3 1 2]\nPclass 已经是有序的类别型变量无需进行复杂处理\n"
     ]
    }
   ],
   "source": [
    "print('开始对连续型特征进行处理')\n",
    "print('开始处理Pclass')\n",
    "print(df['Pclass'].unique())\n",
    "print('Pclass 已经是有序的类别型变量无需进行复杂处理')"
   ]
  },
  {
   "cell_type": "code",
   "execution_count": 56,
   "metadata": {},
   "outputs": [
    {
     "name": "stdout",
     "output_type": "stream",
     "text": [
      "<class 'pandas.core.frame.DataFrame'>\nRangeIndex: 1309 entries, 0 to 1308\nData columns (total 37 columns):\nPclass_1         1309 non-null uint8\nPclass_2         1309 non-null uint8\nPclass_3         1309 non-null uint8\nPclass_1         1309 non-null uint8\nPclass_2         1309 non-null uint8\nPclass_3         1309 non-null uint8\nFare_0           1309 non-null uint8\nFare_1           1309 non-null uint8\nFare_2           1309 non-null uint8\nFare_3           1309 non-null uint8\nFare_4           1309 non-null uint8\nTitle_Master     1309 non-null uint8\nTitle_Miss       1309 non-null uint8\nTitle_Mr         1309 non-null uint8\nTitle_Mrs        1309 non-null uint8\nTitle_Officer    1309 non-null uint8\nTitle_Royalty    1309 non-null uint8\nSex_female       1309 non-null uint8\nSex_male         1309 non-null uint8\nEmbarked_C       1309 non-null uint8\nEmbarked_Q       1309 non-null uint8\nEmbarked_S       1309 non-null uint8\nAge              1223 non-null float64\nCabin            1309 non-null object\nEmbarked         1309 non-null object\nFare             1309 non-null float64\nName             1309 non-null object\nParch            1309 non-null int64\nPassengerId      1309 non-null int64\nPclass           1309 non-null int64\nSex              1309 non-null object\nSibSp            1309 non-null int64\nSurvived         891 non-null float64\nTicket           1309 non-null object\nTitle            1309 non-null object\nGroup_Ticket     1309 non-null int64\nFare_mean        1309 non-null float64\ndtypes: float64(4), int64(5), object(6), uint8(22)\nmemory usage: 181.6+ KB\n"
     ]
    }
   ],
   "source": [
    "pclass_dummies_df = pd.get_dummies(df['Pclass'], prefix='Pclass')\n",
    "df = pd.concat([pclass_dummies_df, df], axis=1)\n",
    "df.info()"
   ]
  },
  {
   "cell_type": "code",
   "execution_count": null,
   "metadata": {},
   "outputs": [],
   "source": []
  }
 ],
 "metadata": {
  "kernelspec": {
   "display_name": "Python 2",
   "language": "python",
   "name": "python2"
  },
  "language_info": {
   "codemirror_mode": {
    "name": "ipython",
    "version": 2
   },
   "file_extension": ".py",
   "mimetype": "text/x-python",
   "name": "python",
   "nbconvert_exporter": "python",
   "pygments_lexer": "ipython2",
   "version": "2.7.6"
  }
 },
 "nbformat": 4,
 "nbformat_minor": 0
}
