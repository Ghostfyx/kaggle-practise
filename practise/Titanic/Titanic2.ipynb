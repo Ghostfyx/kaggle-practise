{
 "cells": [
  {
   "cell_type": "code",
   "execution_count": 2,
   "metadata": {
    "collapsed": true
   },
   "outputs": [],
   "source": [
    "import pandas as pd\n",
    "import numpy as np\n",
    "import warnings\n",
    "warnings.filterwarnings('ignore')\n",
    "import seaborn as sns\n",
    "sns.set_style('whitegrid')\n",
    "import matplotlib.pyplot as plt\n",
    "import matplotlib as mpl\n",
    "# pandas一些属性设置\n",
    "pd.set_option('max_colwidth',20000)\n",
    "pd.set_option('display.width',200)\n",
    "pd.set_option('display.max_columns',500)\n",
    "pd.set_option('display.max_rows',1000)\n",
    "pd.set_option('display.unicode.ambiguous_as_wide', True)\n",
    "pd.set_option('display.unicode.east_asian_width', True)\n",
    "# matlab支持汉字\n",
    "mpl.rcParams[\"font.family\"]=\"sans-serif\"\n",
    "mpl.rcParams['font.sans-serif'] = ['SimHei']"
   ]
  },
  {
   "cell_type": "code",
   "execution_count": 3,
   "metadata": {},
   "outputs": [
    {
     "name": "stdout",
     "output_type": "stream",
     "text": [
      "read data begin\n    Age Cabin Embarked     Fare                                                 Name  Parch  PassengerId  Pclass     Sex  SibSp  Survived            Ticket\n0  22.0   NaN        S   7.2500                              Braund, Mr. Owen Harris      0            1       3    male      1       0.0         A/5 21171\n1  38.0   C85        C  71.2833  Cumings, Mrs. John Bradley (Florence Briggs Thayer)      0            2       1  female      1       1.0          PC 17599\n2  26.0   NaN        S   7.9250                               Heikkinen, Miss. Laina      0            3       3  female      0       1.0  STON/O2. 3101282\n3  35.0  C123        S  53.1000         Futrelle, Mrs. Jacques Heath (Lily May Peel)      0            4       1  female      1       1.0            113803\n4  35.0   NaN        S   8.0500                             Allen, Mr. William Henry      0            5       3    male      0       0.0            373450\n"
     ]
    }
   ],
   "source": [
    "print('read data begin')\n",
    "train_file_path = 'data/Titanic/train.csv'\n",
    "test_file_path = 'data/Titanic/test.csv'\n",
    "train_data = pd.read_csv(train_file_path, header=0)\n",
    "test_data = pd.read_csv(test_file_path, header=0)\n",
    "df = pd.concat([train_data, test_data], ignore_index=True)\n",
    "print(df.head())"
   ]
  },
  {
   "cell_type": "code",
   "execution_count": 4,
   "metadata": {},
   "outputs": [
    {
     "name": "stdout",
     "output_type": "stream",
     "text": [
      "开始处理缺省值\n<class 'pandas.core.frame.DataFrame'>\nRangeIndex: 1309 entries, 0 to 1308\nData columns (total 12 columns):\nAge            1046 non-null float64\nCabin          295 non-null object\nEmbarked       1307 non-null object\nFare           1308 non-null float64\nName           1309 non-null object\nParch          1309 non-null int64\nPassengerId    1309 non-null int64\nPclass         1309 non-null int64\nSex            1309 non-null object\nSibSp          1309 non-null int64\nSurvived       891 non-null float64\nTicket         1309 non-null object\ndtypes: float64(3), int64(4), object(5)\nmemory usage: 122.8+ KB\n--**----**----**----**----**----**----**----**----**----**--\n<class 'pandas.core.frame.DataFrame'>\nRangeIndex: 418 entries, 0 to 417\nData columns (total 11 columns):\nPassengerId    418 non-null int64\nPclass         418 non-null int64\nName           418 non-null object\nSex            418 non-null object\nAge            332 non-null float64\nSibSp          418 non-null int64\nParch          418 non-null int64\nTicket         418 non-null object\nFare           417 non-null float64\nCabin          91 non-null object\nEmbarked       418 non-null object\ndtypes: float64(2), int64(4), object(5)\nmemory usage: 36.0+ KB\n"
     ]
    }
   ],
   "source": [
    "print('开始处理缺省值')\n",
    "df.info()\n",
    "print('--**--'*10)\n",
    "test_data.info()"
   ]
  },
  {
   "cell_type": "code",
   "execution_count": 5,
   "metadata": {},
   "outputs": [
    {
     "data": {
      "text/plain": [
       "0"
      ]
     },
     "execution_count": 5,
     "metadata": {},
     "output_type": "execute_result"
    }
   ],
   "source": [
    "# 缺省值为：Age,Cabin,Embarked,Fare,Survived，其中Survived的缺省值可以忽略\n",
    "train_data_index = train_data.shape[0]\n",
    "# Cabin的缺省值过多\n",
    "df['Cabin'] = df['Cabin'].fillna(value='U0')\n",
    "# Embarked使用众数填充,对于分类变量，使用众数或许比平均值更好\n",
    "df['Embarked'] = df['Embarked'].fillna(value=df['Embarked'].mode().values[0])\n",
    "df['Embarked'].isnull().sum()"
   ]
  },
  {
   "cell_type": "code",
   "execution_count": 6,
   "metadata": {},
   "outputs": [
    {
     "name": "stdout",
     "output_type": "stream",
     "text": [
      "       Age Cabin Embarked  Fare                Name  Parch  PassengerId  Pclass   Sex  SibSp  Survived Ticket\n1043  60.5    U0        S   NaN  Storey, Mr. Thomas      0         1044       3  male      0       NaN   3701\n"
     ]
    }
   ],
   "source": [
    "# Fare的缺省值根据社会等级的平均票价决定\n",
    "print(df[df['Fare'].isnull()])\n",
    "df['Fare'] = df[['Fare','Pclass']].groupby('Pclass')['Fare'].transform(lambda x : x.fillna(x.mean()))"
   ]
  },
  {
   "cell_type": "code",
   "execution_count": 8,
   "metadata": {},
   "outputs": [
    {
     "name": "stdout",
     "output_type": "stream",
     "text": [
      "(0, 6)\n(891, 6)\n"
     ]
    },
    {
     "ename": "ValueError",
     "evalue": "Found array with 0 sample(s) (shape=(0, 5)) while a minimum of 1 is required.",
     "traceback": [
      "\u001b[0;31m---------------------------------------------------------------------------\u001b[0m",
      "\u001b[0;31mValueError\u001b[0m                                Traceback (most recent call last)",
      "\u001b[0;32m<ipython-input-8-964f5ff3d895>\u001b[0m in \u001b[0;36m<module>\u001b[0;34m()\u001b[0m\n\u001b[1;32m     14\u001b[0m \u001b[0mrdf\u001b[0m \u001b[0;34m=\u001b[0m \u001b[0mRandomForestRegressor\u001b[0m\u001b[0;34m(\u001b[0m\u001b[0mn_estimators\u001b[0m\u001b[0;34m=\u001b[0m\u001b[0;36m1000\u001b[0m\u001b[0;34m,\u001b[0m \u001b[0mn_jobs\u001b[0m\u001b[0;34m=\u001b[0m\u001b[0;34m-\u001b[0m\u001b[0;36m1\u001b[0m\u001b[0;34m)\u001b[0m\u001b[0;34m\u001b[0m\u001b[0m\n\u001b[1;32m     15\u001b[0m \u001b[0mrdf\u001b[0m\u001b[0;34m.\u001b[0m\u001b[0mfit\u001b[0m\u001b[0;34m(\u001b[0m\u001b[0mX\u001b[0m\u001b[0;34m,\u001b[0m \u001b[0my\u001b[0m\u001b[0;34m)\u001b[0m\u001b[0;34m\u001b[0m\u001b[0m\n\u001b[0;32m---> 16\u001b[0;31m \u001b[0mpredict_ages\u001b[0m \u001b[0;34m=\u001b[0m \u001b[0mrdf\u001b[0m\u001b[0;34m.\u001b[0m\u001b[0mpredict\u001b[0m\u001b[0;34m(\u001b[0m\u001b[0mage_isnull\u001b[0m\u001b[0;34m.\u001b[0m\u001b[0miloc\u001b[0m\u001b[0;34m[\u001b[0m\u001b[0;34m:\u001b[0m\u001b[0;34m,\u001b[0m \u001b[0;36m1\u001b[0m\u001b[0;34m:\u001b[0m\u001b[0;34m]\u001b[0m\u001b[0;34m)\u001b[0m\u001b[0;34m\u001b[0m\u001b[0m\n\u001b[0m\u001b[1;32m     17\u001b[0m \u001b[0mpredict_ages\u001b[0m\u001b[0;34m\u001b[0m\u001b[0m\n\u001b[1;32m     18\u001b[0m \u001b[0mtrain_data\u001b[0m\u001b[0;34m.\u001b[0m\u001b[0mloc\u001b[0m\u001b[0;34m[\u001b[0m\u001b[0mtrain_data\u001b[0m\u001b[0;34m[\u001b[0m\u001b[0;34m'Age'\u001b[0m\u001b[0;34m]\u001b[0m\u001b[0;34m.\u001b[0m\u001b[0misnull\u001b[0m\u001b[0;34m(\u001b[0m\u001b[0;34m)\u001b[0m\u001b[0;34m,\u001b[0m \u001b[0;34m'Age'\u001b[0m\u001b[0;34m]\u001b[0m\u001b[0;34m=\u001b[0m \u001b[0mpredict_ages\u001b[0m\u001b[0;34m\u001b[0m\u001b[0m\n",
      "\u001b[0;32mC:\\Users\\Administrator\\venv\\lib\\site-packages\\sklearn\\ensemble\\forest.py\u001b[0m in \u001b[0;36mpredict\u001b[0;34m(self, X)\u001b[0m\n\u001b[1;32m    687\u001b[0m         \u001b[0mcheck_is_fitted\u001b[0m\u001b[0;34m(\u001b[0m\u001b[0mself\u001b[0m\u001b[0;34m,\u001b[0m \u001b[0;34m'estimators_'\u001b[0m\u001b[0;34m)\u001b[0m\u001b[0;34m\u001b[0m\u001b[0m\n\u001b[1;32m    688\u001b[0m         \u001b[0;31m# Check data\u001b[0m\u001b[0;34m\u001b[0m\u001b[0;34m\u001b[0m\u001b[0m\n\u001b[0;32m--> 689\u001b[0;31m         \u001b[0mX\u001b[0m \u001b[0;34m=\u001b[0m \u001b[0mself\u001b[0m\u001b[0;34m.\u001b[0m\u001b[0m_validate_X_predict\u001b[0m\u001b[0;34m(\u001b[0m\u001b[0mX\u001b[0m\u001b[0;34m)\u001b[0m\u001b[0;34m\u001b[0m\u001b[0m\n\u001b[0m\u001b[1;32m    690\u001b[0m \u001b[0;34m\u001b[0m\u001b[0m\n\u001b[1;32m    691\u001b[0m         \u001b[0;31m# Assign chunk of trees to jobs\u001b[0m\u001b[0;34m\u001b[0m\u001b[0;34m\u001b[0m\u001b[0m\n",
      "\u001b[0;32mC:\\Users\\Administrator\\venv\\lib\\site-packages\\sklearn\\ensemble\\forest.py\u001b[0m in \u001b[0;36m_validate_X_predict\u001b[0;34m(self, X)\u001b[0m\n\u001b[1;32m    362\u001b[0m                                  \"call `fit` before exploiting the model.\")\n\u001b[1;32m    363\u001b[0m \u001b[0;34m\u001b[0m\u001b[0m\n\u001b[0;32m--> 364\u001b[0;31m         \u001b[0;32mreturn\u001b[0m \u001b[0mself\u001b[0m\u001b[0;34m.\u001b[0m\u001b[0mestimators_\u001b[0m\u001b[0;34m[\u001b[0m\u001b[0;36m0\u001b[0m\u001b[0;34m]\u001b[0m\u001b[0;34m.\u001b[0m\u001b[0m_validate_X_predict\u001b[0m\u001b[0;34m(\u001b[0m\u001b[0mX\u001b[0m\u001b[0;34m,\u001b[0m \u001b[0mcheck_input\u001b[0m\u001b[0;34m=\u001b[0m\u001b[0;32mTrue\u001b[0m\u001b[0;34m)\u001b[0m\u001b[0;34m\u001b[0m\u001b[0m\n\u001b[0m\u001b[1;32m    365\u001b[0m \u001b[0;34m\u001b[0m\u001b[0m\n\u001b[1;32m    366\u001b[0m     \u001b[0;34m@\u001b[0m\u001b[0mproperty\u001b[0m\u001b[0;34m\u001b[0m\u001b[0m\n",
      "\u001b[0;32mC:\\Users\\Administrator\\venv\\lib\\site-packages\\sklearn\\tree\\tree.py\u001b[0m in \u001b[0;36m_validate_X_predict\u001b[0;34m(self, X, check_input)\u001b[0m\n\u001b[1;32m    374\u001b[0m         \u001b[0;34m\"\"\"Validate X whenever one tries to predict, apply, predict_proba\"\"\"\u001b[0m\u001b[0;34m\u001b[0m\u001b[0m\n\u001b[1;32m    375\u001b[0m         \u001b[0;32mif\u001b[0m \u001b[0mcheck_input\u001b[0m\u001b[0;34m:\u001b[0m\u001b[0;34m\u001b[0m\u001b[0m\n\u001b[0;32m--> 376\u001b[0;31m             \u001b[0mX\u001b[0m \u001b[0;34m=\u001b[0m \u001b[0mcheck_array\u001b[0m\u001b[0;34m(\u001b[0m\u001b[0mX\u001b[0m\u001b[0;34m,\u001b[0m \u001b[0mdtype\u001b[0m\u001b[0;34m=\u001b[0m\u001b[0mDTYPE\u001b[0m\u001b[0;34m,\u001b[0m \u001b[0maccept_sparse\u001b[0m\u001b[0;34m=\u001b[0m\u001b[0;34m\"csr\"\u001b[0m\u001b[0;34m)\u001b[0m\u001b[0;34m\u001b[0m\u001b[0m\n\u001b[0m\u001b[1;32m    377\u001b[0m             if issparse(X) and (X.indices.dtype != np.intc or\n\u001b[1;32m    378\u001b[0m                                 X.indptr.dtype != np.intc):\n",
      "\u001b[0;32mC:\\Users\\Administrator\\venv\\lib\\site-packages\\sklearn\\utils\\validation.py\u001b[0m in \u001b[0;36mcheck_array\u001b[0;34m(array, accept_sparse, accept_large_sparse, dtype, order, copy, force_all_finite, ensure_2d, allow_nd, ensure_min_samples, ensure_min_features, warn_on_dtype, estimator)\u001b[0m\n\u001b[1;32m    575\u001b[0m                              \u001b[0;34m\" minimum of %d is required%s.\"\u001b[0m\u001b[0;34m\u001b[0m\u001b[0m\n\u001b[1;32m    576\u001b[0m                              % (n_samples, shape_repr, ensure_min_samples,\n\u001b[0;32m--> 577\u001b[0;31m                                 context))\n\u001b[0m\u001b[1;32m    578\u001b[0m \u001b[0;34m\u001b[0m\u001b[0m\n\u001b[1;32m    579\u001b[0m     \u001b[0;32mif\u001b[0m \u001b[0mensure_min_features\u001b[0m \u001b[0;34m>\u001b[0m \u001b[0;36m0\u001b[0m \u001b[0;32mand\u001b[0m \u001b[0marray\u001b[0m\u001b[0;34m.\u001b[0m\u001b[0mndim\u001b[0m \u001b[0;34m==\u001b[0m \u001b[0;36m2\u001b[0m\u001b[0;34m:\u001b[0m\u001b[0;34m\u001b[0m\u001b[0m\n",
      "\u001b[0;31mValueError\u001b[0m: Found array with 0 sample(s) (shape=(0, 5)) while a minimum of 1 is required."
     ],
     "output_type": "error"
    }
   ],
   "source": [
    "'''\n",
    "使用回归 随机森林等模型来预测缺失属性的值。因为Age在该数据集里是一个相当重要的特征\n",
    "所以保证一定的缺失值填充准确率是非常重要的，对结果也会产生较大影响。一般情况下，会使用数据完整的条目作为模型的训练集，以此来预测缺失值。\n",
    "'''\n",
    "from sklearn.ensemble import RandomForestRegressor\n",
    "train_data = df.iloc[:train_data_index, :]\n",
    "age_train = train_data[['Age','Survived','Fare', 'Parch', 'SibSp', 'Pclass']]\n",
    "age_isnull = age_train[age_train['Age'].isnull()]\n",
    "age_notnull = age_train[age_train['Age'].notnull()]\n",
    "X = age_notnull.iloc[:, 1:]\n",
    "y = age_notnull.iloc[:, 0]\n",
    "print(age_isnull.shape)\n",
    "print(age_notnull.shape)\n",
    "rdf = RandomForestRegressor(n_estimators=1000, n_jobs=-1)\n",
    "rdf.fit(X, y)\n",
    "predict_ages = rdf.predict(age_isnull.iloc[:, 1:])\n",
    "predict_ages\n",
    "train_data.loc[train_data['Age'].isnull(), 'Age']= predict_ages\n",
    "print(train_data['Age'].isnull().sum())"
   ]
  },
  {
   "cell_type": "code",
   "execution_count": 9,
   "metadata": {},
   "outputs": [
    {
     "name": "stdout",
     "output_type": "stream",
     "text": [
      "开始数据可视化处理\n生存关系的整体分布\n"
     ]
    }
   ],
   "source": [
    "print('开始数据可视化处理')\n",
    "print('生存关系的整体分布')\n",
    "#DataFrame.plot( )画图函数\n",
    "train_data['Survived'].value_counts().plot(autopct = '%1.2f%%', kind='pie')\n",
    "plt.show()"
   ]
  },
  {
   "cell_type": "code",
   "execution_count": 11,
   "metadata": {},
   "outputs": [
    {
     "name": "stdout",
     "output_type": "stream",
     "text": [
      "分析性別与生存之间的关系\n"
     ]
    }
   ],
   "source": [
    "print(\"分析性別与生存之间的关系\")\n",
    "train_data[['Sex','Survived']].groupby(['Sex']).mean().plot.bar()\n",
    "plt.show()"
   ]
  },
  {
   "cell_type": "code",
   "execution_count": 12,
   "metadata": {},
   "outputs": [
    {
     "name": "stdout",
     "output_type": "stream",
     "text": [
      "船舱等级和生存的关系\n"
     ]
    }
   ],
   "source": [
    "print(\"船舱等级和生存的关系\")\n",
    "train_data[['Pclass','Survived']].groupby(['Pclass']).mean().plot.bar()\n",
    "plt.show()"
   ]
  },
  {
   "cell_type": "code",
   "execution_count": 15,
   "metadata": {},
   "outputs": [
    {
     "name": "stdout",
     "output_type": "stream",
     "text": [
      "姓名和生存的关系\n"
     ]
    }
   ],
   "source": [
    "print(\"姓名和生存的关系\")\n",
    "# 对姓名只取称呼部门，因为称呼决定了社会关系等。。。\n",
    "train_data['Title'] = train_data['Name'].str.extract(' ([A-Za-z]+)\\.', expand=False)\n",
    "pd.crosstab(train_data['Title'], train_data['Sex'])\n",
    "a = train_data[['Title','Survived']].groupby(['Title']).mean()\n",
    "a.plot(kind='bar')\n",
    "plt.legend(loc='best')\n",
    "plt.show()"
   ]
  },
  {
   "cell_type": "code",
   "execution_count": 22,
   "metadata": {},
   "outputs": [
    {
     "name": "stdout",
     "output_type": "stream",
     "text": [
      "年龄和生存的关系\n各个年龄分布的直方图\n80.0\n"
     ]
    }
   ],
   "source": [
    "print('年龄和生存的关系')\n",
    "print('各个年龄分布的直方图')\n",
    "print(np.max(train_data['Age']))\n",
    "plt.figure(figsize=(8,10))\n",
    "train_data['Age'].hist(bins=70)\n",
    "plt.xlabel('Age')\n",
    "plt.ylabel('Num')\n",
    "plt.show()"
   ]
  },
  {
   "cell_type": "code",
   "execution_count": 33,
   "metadata": {},
   "outputs": [],
   "source": [
    "fig, ax = plt.subplots(1, 2, figsize = (18, 8))\n",
    "# 琴式图\n",
    "sns.violinplot(\"Pclass\", \"Age\", hue=\"Survived\", data=train_data, split=True, ax=ax[0])\n",
    "ax[0].set_title('Pclass and Age vs Survived')\n",
    "ax[0].set_yticks(range(0, 110, 10))\n",
    "\n",
    "sns.violinplot(\"Sex\", \"Age\", hue=\"Survived\", data=train_data, split=True, ax=ax[1])\n",
    "ax[1].set_title('Sex and Age vs Survived')\n",
    "ax[1].set_yticks(range(0, 110, 10))\n",
    "\n",
    "plt.show()\n"
   ]
  },
  {
   "cell_type": "code",
   "execution_count": 41,
   "metadata": {},
   "outputs": [],
   "source": [
    "\n",
    "train_data.boxplot(column='Age', showfliers=False)\n",
    "plt.show()\n"
   ]
  },
  {
   "cell_type": "code",
   "execution_count": 58,
   "metadata": {},
   "outputs": [],
   "source": [
    "facet = sns.FacetGrid(train_data, hue=\"Survived\",aspect=4)\n",
    "# kdeplot核密度估计图\n",
    "facet.map(sns.kdeplot,'Age',shade= True)\n",
    "facet.set(xlim=(0, train_data['Age'].max()))\n",
    "facet.add_legend()\n",
    "plt.show()"
   ]
  },
  {
   "cell_type": "code",
   "execution_count": 63,
   "metadata": {},
   "outputs": [],
   "source": [
    "fig, axis1 = plt.subplots(1,1,figsize=(18,4))\n",
    "train_data[\"Age_int\"] = train_data[\"Age\"].astype(int)\n",
    "average_age = train_data[[\"Age_int\", \"Survived\"]].groupby(['Age_int'],as_index=False).mean()\n",
    "sns.barplot(x='Age_int', y='Survived', data=average_age)\n",
    "plt.show()"
   ]
  },
  {
   "cell_type": "code",
   "execution_count": 64,
   "metadata": {},
   "outputs": [
    {
     "data": {
      "text/plain": [
       "count    891.000000\nmean      29.662482\nstd       13.733924\nmin        0.420000\n25%       21.000000\n50%       28.000000\n75%       37.000000\nmax       80.000000\nName: Age, dtype: float64"
      ]
     },
     "execution_count": 64,
     "metadata": {},
     "output_type": "execute_result"
    }
   ],
   "source": [
    "train_data['Age'].describe()"
   ]
  },
  {
   "cell_type": "code",
   "execution_count": 65,
   "metadata": {},
   "outputs": [],
   "source": [
    "# 按照年龄，将乘客划分为儿童、少年、成年和老年，分析四个群体的生还情况\n",
    "split = [0, 12, 18, 65, 100]\n",
    "train_data['Age_group'] = pd.cut(train_data['Age'], bins=split)\n",
    "by_age = train_data.groupby('Age_group')['Survived'].mean()\n",
    "by_age.plot(kind='bar')\n",
    "plt.show()"
   ]
  },
  {
   "cell_type": "code",
   "execution_count": 66,
   "metadata": {},
   "outputs": [
    {
     "name": "stdout",
     "output_type": "stream",
     "text": [
      "船上兄弟姐妹和配偶的数目与生存关系\n"
     ]
    }
   ],
   "source": [
    "title='SibSp relationship with Survived'\n",
    "print('船上兄弟姐妹和配偶的数目与生存关系')\n",
    "train_data[['SibSp','Survived']].groupby(['SibSp']).mean().plot.bar()\n",
    "plt.title(title)\n",
    "plt.show()"
   ]
  },
  {
   "cell_type": "code",
   "execution_count": 67,
   "metadata": {},
   "outputs": [
    {
     "name": "stdout",
     "output_type": "stream",
     "text": [
      "船上父母，子女的数目与生存关系\n"
     ]
    }
   ],
   "source": [
    "title='Parch relationship with Survived'\n",
    "print('船上父母，子女的数目与生存关系')\n",
    "train_data[['Parch','Survived']].groupby(['Parch']).mean().plot.bar()\n",
    "plt.title(title)\n",
    "plt.show()"
   ]
  },
  {
   "cell_type": "code",
   "execution_count": 68,
   "metadata": {},
   "outputs": [
    {
     "name": "stdout",
     "output_type": "stream",
     "text": [
      "船上亲戚的数目与生存的关系\n从图表中可以看出，若独自一人，那么其存活率比较低；但是如果亲友太多的话，存活率也会很低。\n"
     ]
    }
   ],
   "source": [
    "print('船上亲戚的数目与生存的关系')\n",
    "train_data['Family'] = train_data['Parch']+train_data['SibSp']\n",
    "train_data[['Family','Survived']].groupby(['Family']).mean().plot.bar()\n",
    "plt.show()\n",
    "print('从图表中可以看出，若独自一人，那么其存活率比较低；但是如果亲友太多的话，存活率也会很低。')"
   ]
  },
  {
   "cell_type": "code",
   "execution_count": 69,
   "metadata": {},
   "outputs": [
    {
     "name": "stdout",
     "output_type": "stream",
     "text": [
      "票价分布的直方图\n"
     ]
    }
   ],
   "source": [
    "print('票价分布的直方图')\n",
    "plt.figure(figsize=(8,15))\n",
    "train_data['Fare'].hist(bins=70)\n",
    "plt.show()"
   ]
  },
  {
   "cell_type": "code",
   "execution_count": 70,
   "metadata": {},
   "outputs": [
    {
     "name": "stdout",
     "output_type": "stream",
     "text": [
      "票价与社会阶级之间的关系\n"
     ]
    }
   ],
   "source": [
    "print('票价与社会阶级之间的关系')\n",
    "plt.figure(figsize=(8,10))\n",
    "train_data.groupby(['Pclass'])['Fare'].mean().plot.bar(width=0.1)\n",
    "plt.show()"
   ]
  },
  {
   "cell_type": "code",
   "execution_count": 71,
   "metadata": {},
   "outputs": [
    {
     "data": {
      "text/plain": [
       "count    891.000000\nmean      32.204208\nstd       49.693429\nmin        0.000000\n25%        7.910400\n50%       14.454200\n75%       31.000000\nmax      512.329200\nName: Fare, dtype: float64"
      ]
     },
     "execution_count": 71,
     "metadata": {},
     "output_type": "execute_result"
    }
   ],
   "source": [
    "train_data['Fare'].describe()"
   ]
  },
  {
   "cell_type": "code",
   "execution_count": 72,
   "metadata": {},
   "outputs": [
    {
     "name": "stdout",
     "output_type": "stream",
     "text": [
      "船舱编号和生存之间的关系\n"
     ]
    }
   ],
   "source": [
    "print('船舱编号和生存之间的关系')\n",
    "# Cabin缺省的字段较多，先将缺省船舱编号的和非缺省船舱编码号的进行对比\n",
    "train_data['Has_Cabin'] = train_data['Cabin'].apply(lambda x : 0 if x=='U0' else 1)\n",
    "train_data[['Has_Cabin','Survived']].groupby(['Has_Cabin']).mean().plot.bar(width=0.2)\n",
    "plt.show()\n",
    "# 有船舱的人存活率更高"
   ]
  },
  {
   "cell_type": "code",
   "execution_count": 73,
   "metadata": {},
   "outputs": [
    {
     "name": "stdout",
     "output_type": "stream",
     "text": [
      "不同登录港口和生存之间的关系\n"
     ]
    }
   ],
   "source": [
    "print('不同登录港口和生存之间的关系')\n",
    "train_data[['Embarked','Survived']].groupby(['Embarked']).mean().plot.bar(width=0.2)\n",
    "plt.show()\n",
    "# 由上可以看出，在不同的港口上船，生还率不同，C最高，Q次之，S最低。"
   ]
  },
  {
   "cell_type": "code",
   "execution_count": 74,
   "metadata": {},
   "outputs": [
    {
     "name": "stdout",
     "output_type": "stream",
     "text": [
      "开始特征工程\n<class 'pandas.core.frame.DataFrame'>\nRangeIndex: 1309 entries, 0 to 1308\nData columns (total 12 columns):\nAge            1223 non-null float64\nCabin          1309 non-null object\nEmbarked       1309 non-null object\nFare           1309 non-null float64\nName           1309 non-null object\nParch          1309 non-null int64\nPassengerId    1309 non-null int64\nPclass         1309 non-null int64\nSex            1309 non-null object\nSibSp          1309 non-null int64\nSurvived       891 non-null float64\nTicket         1309 non-null object\ndtypes: float64(3), int64(4), object(5)\nmemory usage: 122.8+ KB\nNone\n"
     ]
    }
   ],
   "source": [
    "print('开始特征工程')\n",
    "# 在进行特征工程的时候，我们不仅需要对训练数据进行处理，还需要同时将测试数据同训练数据一起处理，使得二者具有相同的数据类型和数据分布。\n",
    "print(df.info())"
   ]
  },
  {
   "cell_type": "code",
   "execution_count": 75,
   "metadata": {},
   "outputs": [
    {
     "name": "stdout",
     "output_type": "stream",
     "text": [
      "首先对离散型类别变量进行处理\n开始对Embarked进行处理\n<class 'pandas.core.frame.DataFrame'>\nRangeIndex: 1309 entries, 0 to 1308\nData columns (total 15 columns):\nEmbarked_C     1309 non-null uint8\nEmbarked_Q     1309 non-null uint8\nEmbarked_S     1309 non-null uint8\nAge            1223 non-null float64\nCabin          1309 non-null object\nEmbarked       1309 non-null object\nFare           1309 non-null float64\nName           1309 non-null object\nParch          1309 non-null int64\nPassengerId    1309 non-null int64\nPclass         1309 non-null int64\nSex            1309 non-null object\nSibSp          1309 non-null int64\nSurvived       891 non-null float64\nTicket         1309 non-null object\ndtypes: float64(3), int64(4), object(5), uint8(3)\nmemory usage: 126.6+ KB\nNone\n"
     ]
    }
   ],
   "source": [
    "print('首先对离散型类别变量进行处理')\n",
    "# 使用one-hot编码对离散型类别进行处理\n",
    "print('开始对Embarked进行处理')\n",
    "emb_dummies_df = pd.get_dummies(df['Embarked'], prefix=df[['Embarked']].columns[0])\n",
    "df = pd.concat([emb_dummies_df, df], axis=1,)\n",
    "print(df.info())"
   ]
  },
  {
   "cell_type": "code",
   "execution_count": 76,
   "metadata": {},
   "outputs": [
    {
     "name": "stdout",
     "output_type": "stream",
     "text": [
      "开始对性别进行处理\n<class 'pandas.core.frame.DataFrame'>\nRangeIndex: 1309 entries, 0 to 1308\nData columns (total 17 columns):\nSex_female     1309 non-null uint8\nSex_male       1309 non-null uint8\nEmbarked_C     1309 non-null uint8\nEmbarked_Q     1309 non-null uint8\nEmbarked_S     1309 non-null uint8\nAge            1223 non-null float64\nCabin          1309 non-null object\nEmbarked       1309 non-null object\nFare           1309 non-null float64\nName           1309 non-null object\nParch          1309 non-null int64\nPassengerId    1309 non-null int64\nPclass         1309 non-null int64\nSex            1309 non-null object\nSibSp          1309 non-null int64\nSurvived       891 non-null float64\nTicket         1309 non-null object\ndtypes: float64(3), int64(4), object(5), uint8(5)\nmemory usage: 129.2+ KB\nNone\nNone\n"
     ]
    }
   ],
   "source": [
    "print('开始对性别进行处理')\n",
    "sex_dummies_df = pd.get_dummies(df['Sex'], prefix=df[['Sex']].columns[0])\n",
    "df = pd.concat([sex_dummies_df, df], axis=1)\n",
    "print(print(df.info()))"
   ]
  },
  {
   "cell_type": "code",
   "execution_count": 88,
   "metadata": {
    "collapsed": false
   },
   "outputs": [
    {
     "name": "stdout",
     "output_type": "stream",
     "text": [
      "开始对姓名进行处理\n首先对称呼进行提取\n['Mr' 'Mrs' 'Miss' 'Master' 'Don' 'Rev' 'Dr' 'Mme' 'Ms' 'Major' 'Lady'\n 'Sir' 'Mlle' 'Col' 'Capt' 'Countess' 'Jonkheer' 'Dona']\n0\n<class 'pandas.core.frame.DataFrame'>\nRangeIndex: 1309 entries, 0 to 1308\nData columns (total 30 columns):\nTitle_Master     1309 non-null uint8\nTitle_Miss       1309 non-null uint8\nTitle_Mr         1309 non-null uint8\nTitle_Mrs        1309 non-null uint8\nTitle_Officer    1309 non-null uint8\nTitle_Royalty    1309 non-null uint8\nTitle_Master     1309 non-null uint8\nTitle_Miss       1309 non-null uint8\nTitle_Mr         1309 non-null uint8\nTitle_Mrs        1309 non-null uint8\nTitle_Officer    1309 non-null uint8\nTitle_Royalty    1309 non-null uint8\nSex_female       1309 non-null uint8\nSex_male         1309 non-null uint8\nEmbarked_C       1309 non-null uint8\nEmbarked_Q       1309 non-null uint8\nEmbarked_S       1309 non-null uint8\nAge              1223 non-null float64\nCabin            1309 non-null object\nEmbarked         1309 non-null object\nFare             1309 non-null float64\nName             1309 non-null object\nParch            1309 non-null int64\nPassengerId      1309 non-null int64\nPclass           1309 non-null int64\nSex              1309 non-null object\nSibSp            1309 non-null int64\nSurvived         891 non-null float64\nTicket           1309 non-null object\nTitle            1309 non-null object\ndtypes: float64(3), int64(4), object(6), uint8(17)\nmemory usage: 154.8+ KB\nNone\n"
     ]
    }
   ],
   "source": [
    "print('开始对姓名进行处理')\n",
    "print('首先对称呼进行提取')\n",
    "df['Title'] = df['Name'].str.extract(' ([A-Za-z]+)\\.', expand=False)\n",
    "print(df['Title'].unique())\n",
    "print(df['Title'].isnull().sum())\n",
    "# dict.fromkeys用于创建一个新字典，以序列seq中元素做字典的键，value为字典所有键对应的初始值\n",
    "title_Dict = {}\n",
    "# 对应官员\n",
    "title_Dict.update(dict.fromkeys(['Capt', 'Col', 'Major', 'Dr', 'Rev'], 'Officer'))\n",
    "# 对应皇室成员\n",
    "title_Dict.update(dict.fromkeys(['Don', 'Sir', 'Countess', 'Dona', 'Lady'], 'Royalty'))\n",
    "# Mrs已婚女性\n",
    "title_Dict.update(dict.fromkeys(['Mme', 'Ms', 'Mrs'], 'Mrs'))\n",
    "title_Dict.update(dict.fromkeys(['Mlle', 'Miss'], 'Miss'))\n",
    "title_Dict.update(dict.fromkeys(['Mr'], 'Mr'))\n",
    "# Master 未成年男少主人的称呼,相当于汉语的\"少爷\n",
    "title_Dict.update(dict.fromkeys(['Master','Jonkheer'], 'Master'))\n",
    "df['Title'] = df['Title'].map(title_Dict)\n",
    "title_dummies_df = pd.get_dummies(df['Title'], prefix=df[['Title']].columns[0])\n",
    "df = pd.concat([title_dummies_df, df], axis=1)\n",
    "print(df.info())"
   ]
  },
  {
   "cell_type": "code",
   "execution_count": null,
   "metadata": {},
   "outputs": [],
   "source": []
  }
 ],
 "metadata": {
  "kernelspec": {
   "display_name": "Python 2",
   "language": "python",
   "name": "python2"
  },
  "language_info": {
   "codemirror_mode": {
    "name": "ipython",
    "version": 2
   },
   "file_extension": ".py",
   "mimetype": "text/x-python",
   "name": "python",
   "nbconvert_exporter": "python",
   "pygments_lexer": "ipython2",
   "version": "2.7.6"
  }
 },
 "nbformat": 4,
 "nbformat_minor": 0
}
